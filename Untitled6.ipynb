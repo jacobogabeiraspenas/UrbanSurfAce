{
 "cells": [
  {
   "cell_type": "code",
   "execution_count": 1,
   "id": "99384f9e",
   "metadata": {},
   "outputs": [],
   "source": [
    "import urban_utils"
   ]
  },
  {
   "cell_type": "code",
   "execution_count": 2,
   "id": "77ba0ad8",
   "metadata": {},
   "outputs": [
    {
     "data": {
      "application/vnd.jupyter.widget-view+json": {
       "model_id": "83c3e8508a6c4f7fa29f1b104efd0393",
       "version_major": 2,
       "version_minor": 0
      },
      "text/plain": [
       "Map(center=[40.41671327747509, -3.702635610085826], controls=(ZoomControl(options=['position', 'zoom_in_text',…"
      ]
     },
     "metadata": {},
     "output_type": "display_data"
    },
    {
     "name": "stdout",
     "output_type": "stream",
     "text": [
      "Tiles will be stored in OSM_tiles\n",
      "Downloading tiles in area of interest\n"
     ]
    },
    {
     "data": {
      "application/vnd.jupyter.widget-view+json": {
       "model_id": "5cd8b28b3e85479eaa2ce771702d2caa",
       "version_major": 2,
       "version_minor": 0
      },
      "text/plain": [
       "  0%|          | 0/5 [00:00<?, ?it/s]"
      ]
     },
     "metadata": {},
     "output_type": "display_data"
    },
    {
     "data": {
      "application/vnd.jupyter.widget-view+json": {
       "model_id": "",
       "version_major": 2,
       "version_minor": 0
      },
      "text/plain": [
       "  0%|          | 0/5 [00:00<?, ?it/s]"
      ]
     },
     "metadata": {},
     "output_type": "display_data"
    },
    {
     "data": {
      "application/vnd.jupyter.widget-view+json": {
       "model_id": "",
       "version_major": 2,
       "version_minor": 0
      },
      "text/plain": [
       "  0%|          | 0/5 [00:00<?, ?it/s]"
      ]
     },
     "metadata": {},
     "output_type": "display_data"
    },
    {
     "data": {
      "application/vnd.jupyter.widget-view+json": {
       "model_id": "",
       "version_major": 2,
       "version_minor": 0
      },
      "text/plain": [
       "  0%|          | 0/5 [00:00<?, ?it/s]"
      ]
     },
     "metadata": {},
     "output_type": "display_data"
    },
    {
     "data": {
      "application/vnd.jupyter.widget-view+json": {
       "model_id": "",
       "version_major": 2,
       "version_minor": 0
      },
      "text/plain": [
       "  0%|          | 0/5 [00:00<?, ?it/s]"
      ]
     },
     "metadata": {},
     "output_type": "display_data"
    },
    {
     "data": {
      "application/vnd.jupyter.widget-view+json": {
       "model_id": "",
       "version_major": 2,
       "version_minor": 0
      },
      "text/plain": [
       "  0%|          | 0/5 [00:00<?, ?it/s]"
      ]
     },
     "metadata": {},
     "output_type": "display_data"
    },
    {
     "name": "stdout",
     "output_type": "stream",
     "text": [
      "Merging files and croping for area of interest\n"
     ]
    },
    {
     "data": {
      "application/vnd.jupyter.widget-view+json": {
       "model_id": "0ed88ccba4c949f4810369577b51a7b4",
       "version_major": 2,
       "version_minor": 0
      },
      "text/plain": [
       "  0%|          | 0/25 [00:00<?, ?it/s]"
      ]
     },
     "metadata": {},
     "output_type": "display_data"
    },
    {
     "name": "stdout",
     "output_type": "stream",
     "text": [
      "Merged file saved as: buildings_merged.json\n"
     ]
    }
   ],
   "source": [
    "imap = urban_utils.InteractiveMap()\n",
    "imap.display()"
   ]
  },
  {
   "cell_type": "code",
   "execution_count": 3,
   "id": "5a4bdace",
   "metadata": {},
   "outputs": [],
   "source": [
    "imap.add_geo_em_file('geo_em_madrid_200.d01.nc')"
   ]
  },
  {
   "cell_type": "code",
   "execution_count": 6,
   "id": "a04b9946",
   "metadata": {},
   "outputs": [
    {
     "name": "stdout",
     "output_type": "stream",
     "text": [
      "Loading files...\n",
      "Applying buffer and merging poligons...\n",
      "Iteration 1/4...\n",
      "Iteration 2/4...\n",
      "Iteration 3/4...\n",
      "Iteration 4/4...\n",
      "Reducing buffer to original size...\n",
      "Calculating properties of poligons...\n",
      "Assigning poligons to grid...\n",
      "Calculating URB_PARAM fields...\n",
      "Ingesting fields in URB_PARAM...\n",
      "Saving new file as geo_em_modified.nc\n"
     ]
    }
   ],
   "source": [
    "imap.calculate_URB_PARAM()"
   ]
  },
  {
   "cell_type": "code",
   "execution_count": 12,
   "id": "f33be669",
   "metadata": {},
   "outputs": [
    {
     "data": {
      "text/plain": [
       "<matplotlib.collections.QuadMesh at 0x7f9932344d90>"
      ]
     },
     "execution_count": 12,
     "metadata": {},
     "output_type": "execute_result"
    },
    {
     "data": {
      "image/png": "[encoded data removed]",
      "text/plain": [
       "<Figure size 432x288 with 2 Axes>"
      ]
     },
     "metadata": {
      "needs_background": "light"
     },
     "output_type": "display_data"
    }
   ],
   "source": [
    "imap.new_geo_em_file[-1]['URB_PARAM'][0,118].plot()"
   ]
  },
  {
   "cell_type": "code",
   "execution_count": 15,
   "id": "58453506",
   "metadata": {},
   "outputs": [],
   "source": [
    "import pandas as pd"
   ]
  },
  {
   "cell_type": "code",
   "execution_count": 17,
   "id": "1331e9ec",
   "metadata": {},
   "outputs": [],
   "source": [
    "df_buildings = pd.json_normalize(imap.combined_rows)"
   ]
  },
  {
   "cell_type": "code",
   "execution_count": 19,
   "id": "5342c2f3",
   "metadata": {},
   "outputs": [
    {
     "data": {
      "text/html": [
       "<div>\n",
       "<style scoped>\n",
       "    .dataframe tbody tr th:only-of-type {\n",
       "        vertical-align: middle;\n",
       "    }\n",
       "\n",
       "    .dataframe tbody tr th {\n",
       "        vertical-align: top;\n",
       "    }\n",
       "\n",
       "    .dataframe thead th {\n",
       "        text-align: right;\n",
       "    }\n",
       "</style>\n",
       "<table border=\"1\" class=\"dataframe\">\n",
       "  <thead>\n",
       "    <tr style=\"text-align: right;\">\n",
       "      <th></th>\n",
       "      <th>type</th>\n",
       "      <th>properties.id</th>\n",
       "      <th>properties.height</th>\n",
       "      <th>properties.perimeter</th>\n",
       "      <th>properties.planar_area</th>\n",
       "      <th>geometry.type</th>\n",
       "      <th>geometry.coordinates</th>\n",
       "    </tr>\n",
       "  </thead>\n",
       "  <tbody>\n",
       "    <tr>\n",
       "      <th>0</th>\n",
       "      <td>Feature</td>\n",
       "      <td>0</td>\n",
       "      <td>6.0</td>\n",
       "      <td>99.396782</td>\n",
       "      <td>301.378941</td>\n",
       "      <td>Polygon</td>\n",
       "      <td>[[(-3.715186, 40.421839), (-3.715364, 40.42196...</td>\n",
       "    </tr>\n",
       "    <tr>\n",
       "      <th>1</th>\n",
       "      <td>Feature</td>\n",
       "      <td>1</td>\n",
       "      <td>11.0</td>\n",
       "      <td>71.709661</td>\n",
       "      <td>243.572379</td>\n",
       "      <td>Polygon</td>\n",
       "      <td>[[(-3.715284, 40.422031), (-3.715201, 40.42211...</td>\n",
       "    </tr>\n",
       "    <tr>\n",
       "      <th>2</th>\n",
       "      <td>Feature</td>\n",
       "      <td>2</td>\n",
       "      <td>7.0</td>\n",
       "      <td>152.668786</td>\n",
       "      <td>727.928306</td>\n",
       "      <td>Polygon</td>\n",
       "      <td>[[(-3.71479, 40.422616), (-3.714848, 40.422556...</td>\n",
       "    </tr>\n",
       "    <tr>\n",
       "      <th>3</th>\n",
       "      <td>Feature</td>\n",
       "      <td>3</td>\n",
       "      <td>24.0</td>\n",
       "      <td>164.729313</td>\n",
       "      <td>1300.366896</td>\n",
       "      <td>Polygon</td>\n",
       "      <td>[[(-3.715077, 40.422246), (-3.714991, 40.42233...</td>\n",
       "    </tr>\n",
       "    <tr>\n",
       "      <th>4</th>\n",
       "      <td>Feature</td>\n",
       "      <td>4</td>\n",
       "      <td>6.0</td>\n",
       "      <td>84.462640</td>\n",
       "      <td>425.963217</td>\n",
       "      <td>Polygon</td>\n",
       "      <td>[[(-3.714939, 40.422166), (-3.714818, 40.42229...</td>\n",
       "    </tr>\n",
       "    <tr>\n",
       "      <th>...</th>\n",
       "      <td>...</td>\n",
       "      <td>...</td>\n",
       "      <td>...</td>\n",
       "      <td>...</td>\n",
       "      <td>...</td>\n",
       "      <td>...</td>\n",
       "      <td>...</td>\n",
       "    </tr>\n",
       "    <tr>\n",
       "      <th>13181</th>\n",
       "      <td>Feature</td>\n",
       "      <td>13181</td>\n",
       "      <td>23.0</td>\n",
       "      <td>559.725289</td>\n",
       "      <td>3746.721568</td>\n",
       "      <td>Polygon</td>\n",
       "      <td>[[(-3.680055, 40.402696), (-3.680954, 40.40310...</td>\n",
       "    </tr>\n",
       "    <tr>\n",
       "      <th>13182</th>\n",
       "      <td>Feature</td>\n",
       "      <td>13182</td>\n",
       "      <td>22.0</td>\n",
       "      <td>402.151916</td>\n",
       "      <td>3421.353737</td>\n",
       "      <td>Polygon</td>\n",
       "      <td>[[(-3.681121, 40.403651), (-3.680856, 40.40405...</td>\n",
       "    </tr>\n",
       "    <tr>\n",
       "      <th>13183</th>\n",
       "      <td>Feature</td>\n",
       "      <td>13183</td>\n",
       "      <td>3.0</td>\n",
       "      <td>244.043421</td>\n",
       "      <td>1570.001279</td>\n",
       "      <td>Polygon</td>\n",
       "      <td>[[(-3.679639, 40.399208), (-3.679598, 40.39917...</td>\n",
       "    </tr>\n",
       "    <tr>\n",
       "      <th>13184</th>\n",
       "      <td>Feature</td>\n",
       "      <td>13184</td>\n",
       "      <td>3.0</td>\n",
       "      <td>284.832834</td>\n",
       "      <td>1843.251272</td>\n",
       "      <td>Polygon</td>\n",
       "      <td>[[(-3.679988, 40.396625), (-3.679985, 40.39662...</td>\n",
       "    </tr>\n",
       "    <tr>\n",
       "      <th>13185</th>\n",
       "      <td>Feature</td>\n",
       "      <td>13185</td>\n",
       "      <td>3.0</td>\n",
       "      <td>564.848994</td>\n",
       "      <td>5413.036266</td>\n",
       "      <td>Polygon</td>\n",
       "      <td>[[(-3.680378, 40.396797), (-3.679872, 40.39748...</td>\n",
       "    </tr>\n",
       "  </tbody>\n",
       "</table>\n",
       "<p>13186 rows × 7 columns</p>\n",
       "</div>"
      ],
      "text/plain": [
       "          type  properties.id  properties.height  properties.perimeter  \\\n",
       "0      Feature              0                6.0             99.396782   \n",
       "1      Feature              1               11.0             71.709661   \n",
       "2      Feature              2                7.0            152.668786   \n",
       "3      Feature              3               24.0            164.729313   \n",
       "4      Feature              4                6.0             84.462640   \n",
       "...        ...            ...                ...                   ...   \n",
       "13181  Feature          13181               23.0            559.725289   \n",
       "13182  Feature          13182               22.0            402.151916   \n",
       "13183  Feature          13183                3.0            244.043421   \n",
       "13184  Feature          13184                3.0            284.832834   \n",
       "13185  Feature          13185                3.0            564.848994   \n",
       "\n",
       "       properties.planar_area geometry.type  \\\n",
       "0                  301.378941       Polygon   \n",
       "1                  243.572379       Polygon   \n",
       "2                  727.928306       Polygon   \n",
       "3                 1300.366896       Polygon   \n",
       "4                  425.963217       Polygon   \n",
       "...                       ...           ...   \n",
       "13181             3746.721568       Polygon   \n",
       "13182             3421.353737       Polygon   \n",
       "13183             1570.001279       Polygon   \n",
       "13184             1843.251272       Polygon   \n",
       "13185             5413.036266       Polygon   \n",
       "\n",
       "                                    geometry.coordinates  \n",
       "0      [[(-3.715186, 40.421839), (-3.715364, 40.42196...  \n",
       "1      [[(-3.715284, 40.422031), (-3.715201, 40.42211...  \n",
       "2      [[(-3.71479, 40.422616), (-3.714848, 40.422556...  \n",
       "3      [[(-3.715077, 40.422246), (-3.714991, 40.42233...  \n",
       "4      [[(-3.714939, 40.422166), (-3.714818, 40.42229...  \n",
       "...                                                  ...  \n",
       "13181  [[(-3.680055, 40.402696), (-3.680954, 40.40310...  \n",
       "13182  [[(-3.681121, 40.403651), (-3.680856, 40.40405...  \n",
       "13183  [[(-3.679639, 40.399208), (-3.679598, 40.39917...  \n",
       "13184  [[(-3.679988, 40.396625), (-3.679985, 40.39662...  \n",
       "13185  [[(-3.680378, 40.396797), (-3.679872, 40.39748...  \n",
       "\n",
       "[13186 rows x 7 columns]"
      ]
     },
     "execution_count": 19,
     "metadata": {},
     "output_type": "execute_result"
    }
   ],
   "source": [
    "df_buildings"
   ]
  },
  {
   "cell_type": "code",
   "execution_count": 18,
   "id": "06371395",
   "metadata": {},
   "outputs": [
    {
     "ename": "KeyError",
     "evalue": "'properties.area'",
     "output_type": "error",
     "traceback": [
      "\u001b[0;31m---------------------------------------------------------------------------\u001b[0m",
      "\u001b[0;31mKeyError\u001b[0m                                  Traceback (most recent call last)",
      "File \u001b[0;32m~/opt/anaconda3/envs/repre/lib/python3.9/site-packages/pandas/core/indexes/base.py:3621\u001b[0m, in \u001b[0;36mIndex.get_loc\u001b[0;34m(self, key, method, tolerance)\u001b[0m\n\u001b[1;32m   3620\u001b[0m \u001b[38;5;28;01mtry\u001b[39;00m:\n\u001b[0;32m-> 3621\u001b[0m     \u001b[38;5;28;01mreturn\u001b[39;00m \u001b[38;5;28;43mself\u001b[39;49m\u001b[38;5;241;43m.\u001b[39;49m\u001b[43m_engine\u001b[49m\u001b[38;5;241;43m.\u001b[39;49m\u001b[43mget_loc\u001b[49m\u001b[43m(\u001b[49m\u001b[43mcasted_key\u001b[49m\u001b[43m)\u001b[49m\n\u001b[1;32m   3622\u001b[0m \u001b[38;5;28;01mexcept\u001b[39;00m \u001b[38;5;167;01mKeyError\u001b[39;00m \u001b[38;5;28;01mas\u001b[39;00m err:\n",
      "File \u001b[0;32m~/opt/anaconda3/envs/repre/lib/python3.9/site-packages/pandas/_libs/index.pyx:136\u001b[0m, in \u001b[0;36mpandas._libs.index.IndexEngine.get_loc\u001b[0;34m()\u001b[0m\n",
      "File \u001b[0;32m~/opt/anaconda3/envs/repre/lib/python3.9/site-packages/pandas/_libs/index.pyx:163\u001b[0m, in \u001b[0;36mpandas._libs.index.IndexEngine.get_loc\u001b[0;34m()\u001b[0m\n",
      "File \u001b[0;32mpandas/_libs/hashtable_class_helper.pxi:5198\u001b[0m, in \u001b[0;36mpandas._libs.hashtable.PyObjectHashTable.get_item\u001b[0;34m()\u001b[0m\n",
      "File \u001b[0;32mpandas/_libs/hashtable_class_helper.pxi:5206\u001b[0m, in \u001b[0;36mpandas._libs.hashtable.PyObjectHashTable.get_item\u001b[0;34m()\u001b[0m\n",
      "\u001b[0;31mKeyError\u001b[0m: 'properties.area'",
      "\nThe above exception was the direct cause of the following exception:\n",
      "\u001b[0;31mKeyError\u001b[0m                                  Traceback (most recent call last)",
      "Input \u001b[0;32mIn [18]\u001b[0m, in \u001b[0;36m<cell line: 3>\u001b[0;34m()\u001b[0m\n\u001b[1;32m      1\u001b[0m df_buildings \u001b[38;5;241m=\u001b[39m df_buildings\u001b[38;5;241m.\u001b[39mrename(columns \u001b[38;5;241m=\u001b[39m {\u001b[38;5;124m'\u001b[39m\u001b[38;5;124mproperties.id_i\u001b[39m\u001b[38;5;124m'\u001b[39m:\u001b[38;5;124m'\u001b[39m\u001b[38;5;124msouth_north\u001b[39m\u001b[38;5;124m'\u001b[39m,\u001b[38;5;124m'\u001b[39m\u001b[38;5;124mproperties.id_j\u001b[39m\u001b[38;5;124m'\u001b[39m:\u001b[38;5;124m'\u001b[39m\u001b[38;5;124mwest_east\u001b[39m\u001b[38;5;124m'\u001b[39m})\n\u001b[0;32m----> 3\u001b[0m df_buildings[\u001b[38;5;124m'\u001b[39m\u001b[38;5;124mbuildingSurface\u001b[39m\u001b[38;5;124m'\u001b[39m] \u001b[38;5;241m=\u001b[39m df_buildings[\u001b[38;5;124m'\u001b[39m\u001b[38;5;124mproperties.perimeter\u001b[39m\u001b[38;5;124m'\u001b[39m]\u001b[38;5;241m*\u001b[39mdf_buildings[\u001b[38;5;124m'\u001b[39m\u001b[38;5;124mproperties.height\u001b[39m\u001b[38;5;124m'\u001b[39m]\u001b[38;5;241m+\u001b[39m\u001b[43mdf_buildings\u001b[49m\u001b[43m[\u001b[49m\u001b[38;5;124;43m'\u001b[39;49m\u001b[38;5;124;43mproperties.area\u001b[39;49m\u001b[38;5;124;43m'\u001b[39;49m\u001b[43m]\u001b[49m\n\u001b[1;32m      5\u001b[0m df_buildingAreaSurface \u001b[38;5;241m=\u001b[39m df_buildings[[\u001b[38;5;124m'\u001b[39m\u001b[38;5;124msouth_north\u001b[39m\u001b[38;5;124m'\u001b[39m,\u001b[38;5;124m'\u001b[39m\u001b[38;5;124mwest_east\u001b[39m\u001b[38;5;124m'\u001b[39m,\u001b[38;5;124m'\u001b[39m\u001b[38;5;124mproperties.area\u001b[39m\u001b[38;5;124m'\u001b[39m,\u001b[38;5;124m'\u001b[39m\u001b[38;5;124mbuildingSurface\u001b[39m\u001b[38;5;124m'\u001b[39m]]\u001b[38;5;241m.\u001b[39mgroupby([\u001b[38;5;124m'\u001b[39m\u001b[38;5;124msouth_north\u001b[39m\u001b[38;5;124m'\u001b[39m,\u001b[38;5;124m'\u001b[39m\u001b[38;5;124mwest_east\u001b[39m\u001b[38;5;124m'\u001b[39m])\u001b[38;5;241m.\u001b[39msum()\n",
      "File \u001b[0;32m~/opt/anaconda3/envs/repre/lib/python3.9/site-packages/pandas/core/frame.py:3505\u001b[0m, in \u001b[0;36mDataFrame.__getitem__\u001b[0;34m(self, key)\u001b[0m\n\u001b[1;32m   3503\u001b[0m \u001b[38;5;28;01mif\u001b[39;00m \u001b[38;5;28mself\u001b[39m\u001b[38;5;241m.\u001b[39mcolumns\u001b[38;5;241m.\u001b[39mnlevels \u001b[38;5;241m>\u001b[39m \u001b[38;5;241m1\u001b[39m:\n\u001b[1;32m   3504\u001b[0m     \u001b[38;5;28;01mreturn\u001b[39;00m \u001b[38;5;28mself\u001b[39m\u001b[38;5;241m.\u001b[39m_getitem_multilevel(key)\n\u001b[0;32m-> 3505\u001b[0m indexer \u001b[38;5;241m=\u001b[39m \u001b[38;5;28;43mself\u001b[39;49m\u001b[38;5;241;43m.\u001b[39;49m\u001b[43mcolumns\u001b[49m\u001b[38;5;241;43m.\u001b[39;49m\u001b[43mget_loc\u001b[49m\u001b[43m(\u001b[49m\u001b[43mkey\u001b[49m\u001b[43m)\u001b[49m\n\u001b[1;32m   3506\u001b[0m \u001b[38;5;28;01mif\u001b[39;00m is_integer(indexer):\n\u001b[1;32m   3507\u001b[0m     indexer \u001b[38;5;241m=\u001b[39m [indexer]\n",
      "File \u001b[0;32m~/opt/anaconda3/envs/repre/lib/python3.9/site-packages/pandas/core/indexes/base.py:3623\u001b[0m, in \u001b[0;36mIndex.get_loc\u001b[0;34m(self, key, method, tolerance)\u001b[0m\n\u001b[1;32m   3621\u001b[0m     \u001b[38;5;28;01mreturn\u001b[39;00m \u001b[38;5;28mself\u001b[39m\u001b[38;5;241m.\u001b[39m_engine\u001b[38;5;241m.\u001b[39mget_loc(casted_key)\n\u001b[1;32m   3622\u001b[0m \u001b[38;5;28;01mexcept\u001b[39;00m \u001b[38;5;167;01mKeyError\u001b[39;00m \u001b[38;5;28;01mas\u001b[39;00m err:\n\u001b[0;32m-> 3623\u001b[0m     \u001b[38;5;28;01mraise\u001b[39;00m \u001b[38;5;167;01mKeyError\u001b[39;00m(key) \u001b[38;5;28;01mfrom\u001b[39;00m \u001b[38;5;21;01merr\u001b[39;00m\n\u001b[1;32m   3624\u001b[0m \u001b[38;5;28;01mexcept\u001b[39;00m \u001b[38;5;167;01mTypeError\u001b[39;00m:\n\u001b[1;32m   3625\u001b[0m     \u001b[38;5;66;03m# If we have a listlike key, _check_indexing_error will raise\u001b[39;00m\n\u001b[1;32m   3626\u001b[0m     \u001b[38;5;66;03m#  InvalidIndexError. Otherwise we fall through and re-raise\u001b[39;00m\n\u001b[1;32m   3627\u001b[0m     \u001b[38;5;66;03m#  the TypeError.\u001b[39;00m\n\u001b[1;32m   3628\u001b[0m     \u001b[38;5;28mself\u001b[39m\u001b[38;5;241m.\u001b[39m_check_indexing_error(key)\n",
      "\u001b[0;31mKeyError\u001b[0m: 'properties.area'"
     ]
    }
   ],
   "source": [
    "\n",
    "\n",
    "df_buildings = df_buildings.rename(columns = {'properties.id_i':'south_north','properties.id_j':'west_east'})\n",
    "\n",
    "df_buildings['buildingSurface'] = df_buildings['properties.perimeter']*df_buildings['properties.height']+df_buildings['properties.area']\n",
    "\n",
    "df_buildingAreaSurface = df_buildings[['south_north','west_east','properties.area','buildingSurface']].groupby(['south_north','west_east']).sum()\n"
   ]
  },
  {
   "cell_type": "code",
   "execution_count": null,
   "id": "5ce329a6",
   "metadata": {},
   "outputs": [],
   "source": []
  }
 ],
 "metadata": {
  "kernelspec": {
   "display_name": "Python 3 (ipykernel)",
   "language": "python",
   "name": "python3"
  },
  "language_info": {
   "codemirror_mode": {
    "name": "ipython",
    "version": 3
   },
   "file_extension": ".py",
   "mimetype": "text/x-python",
   "name": "python",
   "nbconvert_exporter": "python",
   "pygments_lexer": "ipython3",
   "version": "3.9.12"
  }
 },
 "nbformat": 4,
 "nbformat_minor": 5
}
