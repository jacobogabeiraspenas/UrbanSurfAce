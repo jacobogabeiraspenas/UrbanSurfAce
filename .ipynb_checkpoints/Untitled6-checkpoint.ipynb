{
 "cells": [
  {
   "cell_type": "code",
   "execution_count": 2,
   "id": "0efab93e",
   "metadata": {},
   "outputs": [
    {
     "name": "stdout",
     "output_type": "stream",
     "text": [
      "Available Themes: \r\n",
      "   chesterish\r\n",
      "   grade3\r\n",
      "   gruvboxd\r\n",
      "   gruvboxl\r\n",
      "   monokai\r\n",
      "   oceans16\r\n",
      "   onedork\r\n",
      "   solarizedd\r\n",
      "   solarizedl\r\n"
     ]
    }
   ],
   "source": [
    "!jt -l"
   ]
  },
  {
   "cell_type": "code",
   "execution_count": 3,
   "id": "c38a3dc1",
   "metadata": {},
   "outputs": [],
   "source": [
    "!jt -t chesterish"
   ]
  },
  {
   "cell_type": "code",
   "execution_count": 5,
   "id": "6158fdb2",
   "metadata": {},
   "outputs": [
    {
     "data": {
      "text/plain": [
       "'/Users/gabeiras3j/UrbanSurfAce'"
      ]
     },
     "execution_count": 5,
     "metadata": {},
     "output_type": "execute_result"
    }
   ],
   "source": [
    "pwd"
   ]
  },
  {
   "cell_type": "code",
   "execution_count": 4,
   "id": "c50162e7",
   "metadata": {},
   "outputs": [],
   "source": [
    "import os\n",
    "import requests\n",
    "import zipfile\n",
    "import io\n"
   ]
  },
  {
   "cell_type": "code",
   "execution_count": 5,
   "id": "6338e355",
   "metadata": {},
   "outputs": [],
   "source": [
    "import numpy as np"
   ]
  },
  {
   "cell_type": "code",
   "execution_count": 6,
   "id": "99384f9e",
   "metadata": {},
   "outputs": [],
   "source": [
    "import urban_utils"
   ]
  },
  {
   "cell_type": "code",
   "execution_count": 7,
   "id": "77ba0ad8",
   "metadata": {},
   "outputs": [
    {
     "data": {
      "application/vnd.jupyter.widget-view+json": {
       "model_id": "931bac0c19b547d5bdd00304adcc13ff",
       "version_major": 2,
       "version_minor": 0
      },
      "text/plain": [
       "Map(center=[45.1787, 5.7628], controls=(ZoomControl(options=['position', 'zoom_in_text', 'zoom_in_title', 'zoo…"
      ]
     },
     "metadata": {},
     "output_type": "display_data"
    }
   ],
   "source": [
    "imap = urban_utils.InteractiveMap()\n",
    "imap.display()"
   ]
  },
  {
   "cell_type": "code",
   "execution_count": 8,
   "id": "5a4bdace",
   "metadata": {},
   "outputs": [],
   "source": [
    "imap.add_geo_em_file('../01_year_2/01_Data/06_WRF/00_geo_ems/geo_em_madrid_200.d01.nc')"
   ]
  },
  {
   "cell_type": "code",
   "execution_count": 9,
   "id": "10d8e3da",
   "metadata": {},
   "outputs": [
    {
     "name": "stdout",
     "output_type": "stream",
     "text": [
      "Tiles will be stored in Urban_Fraction_Tiles\n"
     ]
    },
    {
     "data": {
      "application/vnd.jupyter.widget-view+json": {
       "model_id": "1b0ad4f0e7b545799e798c445f7acec8",
       "version_major": 2,
       "version_minor": 0
      },
      "text/plain": [
       "  0%|          | 0/1 [00:00<?, ?it/s]"
      ]
     },
     "metadata": {},
     "output_type": "display_data"
    },
    {
     "name": "stdout",
     "output_type": "stream",
     "text": [
      "File successfully downloaded and extracted.\n"
     ]
    }
   ],
   "source": [
    "imap.get_urban_fraction_in_aoi()"
   ]
  },
  {
   "cell_type": "code",
   "execution_count": 10,
   "id": "0254a3f2",
   "metadata": {},
   "outputs": [
    {
     "name": "stdout",
     "output_type": "stream",
     "text": [
      "total 103712\r\n",
      "-rw-r--r--  1 gabeiras3j  staff  10153142 Mar 26 16:13 04_07_zoom4_urban_fraction_100m_int8.tif\r\n",
      "-rw-r--r--  1 gabeiras3j  staff  26139862 Mar 25 15:42 04_08_zoom4_urban_fraction_100m_int8.tif\r\n",
      "-rw-r--r--  1 gabeiras3j  staff   7446918 Mar 25 14:59 05_07_zoom4_urban_fraction_100m_int8.tif\r\n",
      "-rw-r--r--  1 gabeiras3j  staff   8818308 Mar 25 14:59 05_08_zoom4_urban_fraction_100m_int8.tif\r\n"
     ]
    }
   ],
   "source": [
    "ll Urban_Fraction_Tiles/"
   ]
  },
  {
   "cell_type": "code",
   "execution_count": 11,
   "id": "4bd04e10",
   "metadata": {},
   "outputs": [
    {
     "data": {
      "text/plain": [
       "['Urban_Fraction_Tiles/04_07_zoom4_urban_fraction_100m_int8.tif']"
      ]
     },
     "execution_count": 11,
     "metadata": {},
     "output_type": "execute_result"
    }
   ],
   "source": [
    "imap.saved_urban_fraction_tiles"
   ]
  },
  {
   "cell_type": "code",
   "execution_count": 12,
   "id": "1ec65bfd",
   "metadata": {},
   "outputs": [],
   "source": [
    "import xarray as xr\n",
    "import rasterio\n",
    "\n",
    "def open_tiff_as_xarray(tiff_path):\n",
    "    \"\"\"\n",
    "    Opens a TIFF file at the specified path and returns it as an xarray DataArray.\n",
    "\n",
    "    Parameters:\n",
    "    - tiff_path: str, path to the TIFF file.\n",
    "\n",
    "    Returns:\n",
    "    - xarray.DataArray representing the raster data.\n",
    "    \"\"\"\n",
    "    with rasterio.open(tiff_path) as src:\n",
    "        # Read the raster data along with its metadata\n",
    "        data = src.read()\n",
    "        # Get the spatial coordinates (transform) and other metadata\n",
    "        transform = src.transform\n",
    "        # Optionally, you can extract additional metadata (e.g., CRS) from src if needed\n",
    "        \n",
    "    # Convert the raster data to an xarray DataArray\n",
    "    # Adjust the dims and coords according to your specific needs\n",
    "    da = xr.DataArray(data, dims=(\"band\", \"lat\", \"lon\"), \n",
    "                      coords={\"lon\": (\"lon\", np.arange(data.shape[2])),\n",
    "                              \"lat\": (\"lat\", np.arange(data.shape[1]))})\n",
    "    \n",
    "    # Apply the spatial transform to adjust coordinates\n",
    "    # Note: This is a simplified example; consider the CRS and any other geospatial attributes necessary for your application\n",
    "    da.coords[\"lon\"] = (da.coords[\"lon\"] * transform[0]) + transform[2]\n",
    "    da.coords[\"lat\"] = (da.coords[\"lat\"] * transform[4]) + transform[5]\n",
    "    \n",
    "    return da\n",
    "\n"
   ]
  },
  {
   "cell_type": "code",
   "execution_count": 13,
   "id": "286872ce",
   "metadata": {},
   "outputs": [
    {
     "name": "stdout",
     "output_type": "stream",
     "text": [
      "<xarray.DataArray (band: 1, lat: 10000, lon: 25000)>\n",
      "array([[[0, 0, 0, ..., 0, 0, 0],\n",
      "        [0, 0, 0, ..., 0, 0, 0],\n",
      "        [0, 0, 0, ..., 0, 0, 0],\n",
      "        ...,\n",
      "        [0, 0, 0, ..., 0, 0, 0],\n",
      "        [0, 0, 0, ..., 0, 0, 0],\n",
      "        [0, 0, 0, ..., 0, 0, 0]]], dtype=int8)\n",
      "Coordinates:\n",
      "  * lon      (lon) float64 -22.5 -22.5 -22.5 -22.5 ... -0.0027 -0.0018 -0.0009\n",
      "  * lat      (lat) float64 48.0 48.0 48.0 48.0 48.0 ... 39.0 39.0 39.0 39.0 39.0\n",
      "Dimensions without coordinates: band\n"
     ]
    }
   ],
   "source": [
    "# Example usage\n",
    "tiff_path = imap.saved_urban_fraction_tiles[0]\n",
    "xarray_data = open_tiff_as_xarray(tiff_path)\n",
    "print(xarray_data)"
   ]
  },
  {
   "cell_type": "code",
   "execution_count": 14,
   "id": "b8a012c8",
   "metadata": {},
   "outputs": [
    {
     "data": {
      "text/html": [
       "<div><svg style=\"position: absolute; width: 0; height: 0; overflow: hidden\">\n",
       "<defs>\n",
       "<symbol id=\"icon-database\" viewBox=\"0 0 32 32\">\n",
       "<path d=\"M16 0c-8.837 0-16 2.239-16 5v4c0 2.761 7.163 5 16 5s16-2.239 16-5v-4c0-2.761-7.163-5-16-5z\"></path>\n",
       "<path d=\"M16 17c-8.837 0-16-2.239-16-5v6c0 2.761 7.163 5 16 5s16-2.239 16-5v-6c0 2.761-7.163 5-16 5z\"></path>\n",
       "<path d=\"M16 26c-8.837 0-16-2.239-16-5v6c0 2.761 7.163 5 16 5s16-2.239 16-5v-6c0 2.761-7.163 5-16 5z\"></path>\n",
       "</symbol>\n",
       "<symbol id=\"icon-file-text2\" viewBox=\"0 0 32 32\">\n",
       "<path d=\"M28.681 7.159c-0.694-0.947-1.662-2.053-2.724-3.116s-2.169-2.030-3.116-2.724c-1.612-1.182-2.393-1.319-2.841-1.319h-15.5c-1.378 0-2.5 1.121-2.5 2.5v27c0 1.378 1.122 2.5 2.5 2.5h23c1.378 0 2.5-1.122 2.5-2.5v-19.5c0-0.448-0.137-1.23-1.319-2.841zM24.543 5.457c0.959 0.959 1.712 1.825 2.268 2.543h-4.811v-4.811c0.718 0.556 1.584 1.309 2.543 2.268zM28 29.5c0 0.271-0.229 0.5-0.5 0.5h-23c-0.271 0-0.5-0.229-0.5-0.5v-27c0-0.271 0.229-0.5 0.5-0.5 0 0 15.499-0 15.5 0v7c0 0.552 0.448 1 1 1h7v19.5z\"></path>\n",
       "<path d=\"M23 26h-14c-0.552 0-1-0.448-1-1s0.448-1 1-1h14c0.552 0 1 0.448 1 1s-0.448 1-1 1z\"></path>\n",
       "<path d=\"M23 22h-14c-0.552 0-1-0.448-1-1s0.448-1 1-1h14c0.552 0 1 0.448 1 1s-0.448 1-1 1z\"></path>\n",
       "<path d=\"M23 18h-14c-0.552 0-1-0.448-1-1s0.448-1 1-1h14c0.552 0 1 0.448 1 1s-0.448 1-1 1z\"></path>\n",
       "</symbol>\n",
       "</defs>\n",
       "</svg>\n",
       "<style>/* CSS stylesheet for displaying xarray objects in jupyterlab.\n",
       " *\n",
       " */\n",
       "\n",
       ":root {\n",
       "  --xr-font-color0: var(--jp-content-font-color0, rgba(0, 0, 0, 1));\n",
       "  --xr-font-color2: var(--jp-content-font-color2, rgba(0, 0, 0, 0.54));\n",
       "  --xr-font-color3: var(--jp-content-font-color3, rgba(0, 0, 0, 0.38));\n",
       "  --xr-border-color: var(--jp-border-color2, #e0e0e0);\n",
       "  --xr-disabled-color: var(--jp-layout-color3, #bdbdbd);\n",
       "  --xr-background-color: var(--jp-layout-color0, white);\n",
       "  --xr-background-color-row-even: var(--jp-layout-color1, white);\n",
       "  --xr-background-color-row-odd: var(--jp-layout-color2, #eeeeee);\n",
       "}\n",
       "\n",
       "html[theme=dark],\n",
       "body.vscode-dark {\n",
       "  --xr-font-color0: rgba(255, 255, 255, 1);\n",
       "  --xr-font-color2: rgba(255, 255, 255, 0.54);\n",
       "  --xr-font-color3: rgba(255, 255, 255, 0.38);\n",
       "  --xr-border-color: #1F1F1F;\n",
       "  --xr-disabled-color: #515151;\n",
       "  --xr-background-color: #111111;\n",
       "  --xr-background-color-row-even: #111111;\n",
       "  --xr-background-color-row-odd: #313131;\n",
       "}\n",
       "\n",
       ".xr-wrap {\n",
       "  display: block;\n",
       "  min-width: 300px;\n",
       "  max-width: 700px;\n",
       "}\n",
       "\n",
       ".xr-text-repr-fallback {\n",
       "  /* fallback to plain text repr when CSS is not injected (untrusted notebook) */\n",
       "  display: none;\n",
       "}\n",
       "\n",
       ".xr-header {\n",
       "  padding-top: 6px;\n",
       "  padding-bottom: 6px;\n",
       "  margin-bottom: 4px;\n",
       "  border-bottom: solid 1px var(--xr-border-color);\n",
       "}\n",
       "\n",
       ".xr-header > div,\n",
       ".xr-header > ul {\n",
       "  display: inline;\n",
       "  margin-top: 0;\n",
       "  margin-bottom: 0;\n",
       "}\n",
       "\n",
       ".xr-obj-type,\n",
       ".xr-array-name {\n",
       "  margin-left: 2px;\n",
       "  margin-right: 10px;\n",
       "}\n",
       "\n",
       ".xr-obj-type {\n",
       "  color: var(--xr-font-color2);\n",
       "}\n",
       "\n",
       ".xr-sections {\n",
       "  padding-left: 0 !important;\n",
       "  display: grid;\n",
       "  grid-template-columns: 150px auto auto 1fr 20px 20px;\n",
       "}\n",
       "\n",
       ".xr-section-item {\n",
       "  display: contents;\n",
       "}\n",
       "\n",
       ".xr-section-item input {\n",
       "  display: none;\n",
       "}\n",
       "\n",
       ".xr-section-item input + label {\n",
       "  color: var(--xr-disabled-color);\n",
       "}\n",
       "\n",
       ".xr-section-item input:enabled + label {\n",
       "  cursor: pointer;\n",
       "  color: var(--xr-font-color2);\n",
       "}\n",
       "\n",
       ".xr-section-item input:enabled + label:hover {\n",
       "  color: var(--xr-font-color0);\n",
       "}\n",
       "\n",
       ".xr-section-summary {\n",
       "  grid-column: 1;\n",
       "  color: var(--xr-font-color2);\n",
       "  font-weight: 500;\n",
       "}\n",
       "\n",
       ".xr-section-summary > span {\n",
       "  display: inline-block;\n",
       "  padding-left: 0.5em;\n",
       "}\n",
       "\n",
       ".xr-section-summary-in:disabled + label {\n",
       "  color: var(--xr-font-color2);\n",
       "}\n",
       "\n",
       ".xr-section-summary-in + label:before {\n",
       "  display: inline-block;\n",
       "  content: '►';\n",
       "  font-size: 11px;\n",
       "  width: 15px;\n",
       "  text-align: center;\n",
       "}\n",
       "\n",
       ".xr-section-summary-in:disabled + label:before {\n",
       "  color: var(--xr-disabled-color);\n",
       "}\n",
       "\n",
       ".xr-section-summary-in:checked + label:before {\n",
       "  content: '▼';\n",
       "}\n",
       "\n",
       ".xr-section-summary-in:checked + label > span {\n",
       "  display: none;\n",
       "}\n",
       "\n",
       ".xr-section-summary,\n",
       ".xr-section-inline-details {\n",
       "  padding-top: 4px;\n",
       "  padding-bottom: 4px;\n",
       "}\n",
       "\n",
       ".xr-section-inline-details {\n",
       "  grid-column: 2 / -1;\n",
       "}\n",
       "\n",
       ".xr-section-details {\n",
       "  display: none;\n",
       "  grid-column: 1 / -1;\n",
       "  margin-bottom: 5px;\n",
       "}\n",
       "\n",
       ".xr-section-summary-in:checked ~ .xr-section-details {\n",
       "  display: contents;\n",
       "}\n",
       "\n",
       ".xr-array-wrap {\n",
       "  grid-column: 1 / -1;\n",
       "  display: grid;\n",
       "  grid-template-columns: 20px auto;\n",
       "}\n",
       "\n",
       ".xr-array-wrap > label {\n",
       "  grid-column: 1;\n",
       "  vertical-align: top;\n",
       "}\n",
       "\n",
       ".xr-preview {\n",
       "  color: var(--xr-font-color3);\n",
       "}\n",
       "\n",
       ".xr-array-preview,\n",
       ".xr-array-data {\n",
       "  padding: 0 5px !important;\n",
       "  grid-column: 2;\n",
       "}\n",
       "\n",
       ".xr-array-data,\n",
       ".xr-array-in:checked ~ .xr-array-preview {\n",
       "  display: none;\n",
       "}\n",
       "\n",
       ".xr-array-in:checked ~ .xr-array-data,\n",
       ".xr-array-preview {\n",
       "  display: inline-block;\n",
       "}\n",
       "\n",
       ".xr-dim-list {\n",
       "  display: inline-block !important;\n",
       "  list-style: none;\n",
       "  padding: 0 !important;\n",
       "  margin: 0;\n",
       "}\n",
       "\n",
       ".xr-dim-list li {\n",
       "  display: inline-block;\n",
       "  padding: 0;\n",
       "  margin: 0;\n",
       "}\n",
       "\n",
       ".xr-dim-list:before {\n",
       "  content: '(';\n",
       "}\n",
       "\n",
       ".xr-dim-list:after {\n",
       "  content: ')';\n",
       "}\n",
       "\n",
       ".xr-dim-list li:not(:last-child):after {\n",
       "  content: ',';\n",
       "  padding-right: 5px;\n",
       "}\n",
       "\n",
       ".xr-has-index {\n",
       "  font-weight: bold;\n",
       "}\n",
       "\n",
       ".xr-var-list,\n",
       ".xr-var-item {\n",
       "  display: contents;\n",
       "}\n",
       "\n",
       ".xr-var-item > div,\n",
       ".xr-var-item label,\n",
       ".xr-var-item > .xr-var-name span {\n",
       "  background-color: var(--xr-background-color-row-even);\n",
       "  margin-bottom: 0;\n",
       "}\n",
       "\n",
       ".xr-var-item > .xr-var-name:hover span {\n",
       "  padding-right: 5px;\n",
       "}\n",
       "\n",
       ".xr-var-list > li:nth-child(odd) > div,\n",
       ".xr-var-list > li:nth-child(odd) > label,\n",
       ".xr-var-list > li:nth-child(odd) > .xr-var-name span {\n",
       "  background-color: var(--xr-background-color-row-odd);\n",
       "}\n",
       "\n",
       ".xr-var-name {\n",
       "  grid-column: 1;\n",
       "}\n",
       "\n",
       ".xr-var-dims {\n",
       "  grid-column: 2;\n",
       "}\n",
       "\n",
       ".xr-var-dtype {\n",
       "  grid-column: 3;\n",
       "  text-align: right;\n",
       "  color: var(--xr-font-color2);\n",
       "}\n",
       "\n",
       ".xr-var-preview {\n",
       "  grid-column: 4;\n",
       "}\n",
       "\n",
       ".xr-var-name,\n",
       ".xr-var-dims,\n",
       ".xr-var-dtype,\n",
       ".xr-preview,\n",
       ".xr-attrs dt {\n",
       "  white-space: nowrap;\n",
       "  overflow: hidden;\n",
       "  text-overflow: ellipsis;\n",
       "  padding-right: 10px;\n",
       "}\n",
       "\n",
       ".xr-var-name:hover,\n",
       ".xr-var-dims:hover,\n",
       ".xr-var-dtype:hover,\n",
       ".xr-attrs dt:hover {\n",
       "  overflow: visible;\n",
       "  width: auto;\n",
       "  z-index: 1;\n",
       "}\n",
       "\n",
       ".xr-var-attrs,\n",
       ".xr-var-data {\n",
       "  display: none;\n",
       "  background-color: var(--xr-background-color) !important;\n",
       "  padding-bottom: 5px !important;\n",
       "}\n",
       "\n",
       ".xr-var-attrs-in:checked ~ .xr-var-attrs,\n",
       ".xr-var-data-in:checked ~ .xr-var-data {\n",
       "  display: block;\n",
       "}\n",
       "\n",
       ".xr-var-data > table {\n",
       "  float: right;\n",
       "}\n",
       "\n",
       ".xr-var-name span,\n",
       ".xr-var-data,\n",
       ".xr-attrs {\n",
       "  padding-left: 25px !important;\n",
       "}\n",
       "\n",
       ".xr-attrs,\n",
       ".xr-var-attrs,\n",
       ".xr-var-data {\n",
       "  grid-column: 1 / -1;\n",
       "}\n",
       "\n",
       "dl.xr-attrs {\n",
       "  padding: 0;\n",
       "  margin: 0;\n",
       "  display: grid;\n",
       "  grid-template-columns: 125px auto;\n",
       "}\n",
       "\n",
       ".xr-attrs dt,\n",
       ".xr-attrs dd {\n",
       "  padding: 0;\n",
       "  margin: 0;\n",
       "  float: left;\n",
       "  padding-right: 10px;\n",
       "  width: auto;\n",
       "}\n",
       "\n",
       ".xr-attrs dt {\n",
       "  font-weight: normal;\n",
       "  grid-column: 1;\n",
       "}\n",
       "\n",
       ".xr-attrs dt:hover span {\n",
       "  display: inline-block;\n",
       "  background: var(--xr-background-color);\n",
       "  padding-right: 10px;\n",
       "}\n",
       "\n",
       ".xr-attrs dd {\n",
       "  grid-column: 2;\n",
       "  white-space: pre-wrap;\n",
       "  word-break: break-all;\n",
       "}\n",
       "\n",
       ".xr-icon-database,\n",
       ".xr-icon-file-text2 {\n",
       "  display: inline-block;\n",
       "  vertical-align: middle;\n",
       "  width: 1em;\n",
       "  height: 1.5em !important;\n",
       "  stroke-width: 0;\n",
       "  stroke: currentColor;\n",
       "  fill: currentColor;\n",
       "}\n",
       "</style><pre class='xr-text-repr-fallback'>&lt;xarray.DataArray (band: 1, lat: 10000, lon: 25000)&gt;\n",
       "array([[[0, 0, 0, ..., 0, 0, 0],\n",
       "        [0, 0, 0, ..., 0, 0, 0],\n",
       "        [0, 0, 0, ..., 0, 0, 0],\n",
       "        ...,\n",
       "        [0, 0, 0, ..., 0, 0, 0],\n",
       "        [0, 0, 0, ..., 0, 0, 0],\n",
       "        [0, 0, 0, ..., 0, 0, 0]]], dtype=int8)\n",
       "Coordinates:\n",
       "  * lon      (lon) float64 -22.5 -22.5 -22.5 -22.5 ... -0.0027 -0.0018 -0.0009\n",
       "  * lat      (lat) float64 48.0 48.0 48.0 48.0 48.0 ... 39.0 39.0 39.0 39.0 39.0\n",
       "Dimensions without coordinates: band</pre><div class='xr-wrap' hidden><div class='xr-header'><div class='xr-obj-type'>xarray.DataArray</div><div class='xr-array-name'></div><ul class='xr-dim-list'><li><span>band</span>: 1</li><li><span class='xr-has-index'>lat</span>: 10000</li><li><span class='xr-has-index'>lon</span>: 25000</li></ul></div><ul class='xr-sections'><li class='xr-section-item'><div class='xr-array-wrap'><input id='section-84d52b96-6550-4c46-bdb2-43c71d64338a' class='xr-array-in' type='checkbox' checked><label for='section-84d52b96-6550-4c46-bdb2-43c71d64338a' title='Show/hide data repr'><svg class='icon xr-icon-database'><use xlink:href='#icon-database'></use></svg></label><div class='xr-array-preview xr-preview'><span>0 0 0 0 0 0 0 0 0 0 0 0 0 0 0 0 0 ... 0 0 0 0 0 0 0 0 0 0 0 0 0 0 0 0</span></div><div class='xr-array-data'><pre>array([[[0, 0, 0, ..., 0, 0, 0],\n",
       "        [0, 0, 0, ..., 0, 0, 0],\n",
       "        [0, 0, 0, ..., 0, 0, 0],\n",
       "        ...,\n",
       "        [0, 0, 0, ..., 0, 0, 0],\n",
       "        [0, 0, 0, ..., 0, 0, 0],\n",
       "        [0, 0, 0, ..., 0, 0, 0]]], dtype=int8)</pre></div></div></li><li class='xr-section-item'><input id='section-198b6da2-6bc8-4bb3-ad48-ec4d844a6693' class='xr-section-summary-in' type='checkbox'  checked><label for='section-198b6da2-6bc8-4bb3-ad48-ec4d844a6693' class='xr-section-summary' >Coordinates: <span>(2)</span></label><div class='xr-section-inline-details'></div><div class='xr-section-details'><ul class='xr-var-list'><li class='xr-var-item'><div class='xr-var-name'><span class='xr-has-index'>lon</span></div><div class='xr-var-dims'>(lon)</div><div class='xr-var-dtype'>float64</div><div class='xr-var-preview xr-preview'>-22.5 -22.5 ... -0.0018 -0.0009</div><input id='attrs-4b722101-d8f5-47ab-ab2e-463ed5663fee' class='xr-var-attrs-in' type='checkbox' disabled><label for='attrs-4b722101-d8f5-47ab-ab2e-463ed5663fee' title='Show/Hide attributes'><svg class='icon xr-icon-file-text2'><use xlink:href='#icon-file-text2'></use></svg></label><input id='data-942d647b-bda7-4e2c-9d3c-318df0903bd8' class='xr-var-data-in' type='checkbox'><label for='data-942d647b-bda7-4e2c-9d3c-318df0903bd8' title='Show/Hide data repr'><svg class='icon xr-icon-database'><use xlink:href='#icon-database'></use></svg></label><div class='xr-var-attrs'><dl class='xr-attrs'></dl></div><div class='xr-var-data'><pre>array([-2.25000e+01, -2.24991e+01, -2.24982e+01, ..., -2.70000e-03,\n",
       "       -1.80000e-03, -9.00000e-04])</pre></div></li><li class='xr-var-item'><div class='xr-var-name'><span class='xr-has-index'>lat</span></div><div class='xr-var-dims'>(lat)</div><div class='xr-var-dtype'>float64</div><div class='xr-var-preview xr-preview'>48.0 48.0 48.0 ... 39.0 39.0 39.0</div><input id='attrs-e6bbbe44-1f3c-49d4-89f6-8254abc6b441' class='xr-var-attrs-in' type='checkbox' disabled><label for='attrs-e6bbbe44-1f3c-49d4-89f6-8254abc6b441' title='Show/Hide attributes'><svg class='icon xr-icon-file-text2'><use xlink:href='#icon-file-text2'></use></svg></label><input id='data-82aa804f-67d1-4268-963f-7635bd2795b7' class='xr-var-data-in' type='checkbox'><label for='data-82aa804f-67d1-4268-963f-7635bd2795b7' title='Show/Hide data repr'><svg class='icon xr-icon-database'><use xlink:href='#icon-database'></use></svg></label><div class='xr-var-attrs'><dl class='xr-attrs'></dl></div><div class='xr-var-data'><pre>array([48.    , 47.9991, 47.9982, ..., 39.0027, 39.0018, 39.0009])</pre></div></li></ul></div></li><li class='xr-section-item'><input id='section-19d04315-9da5-4d39-a377-576ac84a0e15' class='xr-section-summary-in' type='checkbox' disabled ><label for='section-19d04315-9da5-4d39-a377-576ac84a0e15' class='xr-section-summary'  title='Expand/collapse section'>Attributes: <span>(0)</span></label><div class='xr-section-inline-details'></div><div class='xr-section-details'><dl class='xr-attrs'></dl></div></li></ul></div></div>"
      ],
      "text/plain": [
       "<xarray.DataArray (band: 1, lat: 10000, lon: 25000)>\n",
       "array([[[0, 0, 0, ..., 0, 0, 0],\n",
       "        [0, 0, 0, ..., 0, 0, 0],\n",
       "        [0, 0, 0, ..., 0, 0, 0],\n",
       "        ...,\n",
       "        [0, 0, 0, ..., 0, 0, 0],\n",
       "        [0, 0, 0, ..., 0, 0, 0],\n",
       "        [0, 0, 0, ..., 0, 0, 0]]], dtype=int8)\n",
       "Coordinates:\n",
       "  * lon      (lon) float64 -22.5 -22.5 -22.5 -22.5 ... -0.0027 -0.0018 -0.0009\n",
       "  * lat      (lat) float64 48.0 48.0 48.0 48.0 48.0 ... 39.0 39.0 39.0 39.0 39.0\n",
       "Dimensions without coordinates: band"
      ]
     },
     "execution_count": 14,
     "metadata": {},
     "output_type": "execute_result"
    }
   ],
   "source": [
    "xarray_data"
   ]
  },
  {
   "cell_type": "code",
   "execution_count": 15,
   "id": "735a65a6",
   "metadata": {},
   "outputs": [],
   "source": [
    "def regrid_dataarray_conservatively(src_dataarray, target_grid):\n",
    "    \"\"\"\n",
    "    Regrids a source xarray DataArray onto a target grid using conservative regridding.\n",
    "\n",
    "    Parameters:\n",
    "    - src_dataarray: xarray.DataArray, the source data to be regridded.\n",
    "    - target_grid: xarray.Dataset, the target grid to regrid onto.\n",
    "\n",
    "    Returns:\n",
    "    - xarray.DataArray regridded onto the target grid.\n",
    "    \"\"\"\n",
    "    # Create the regridder object for conservative regridding\n",
    "    regridder = xe.Regridder(src_dataarray, target_grid, method='conservative', reuse_weights=True)\n",
    "\n",
    "    # Perform the regridding operation\n",
    "    regridded_data = regridder(src_dataarray)\n",
    "    \n",
    "    return regridded_data\n",
    "\n"
   ]
  },
  {
   "cell_type": "code",
   "execution_count": 19,
   "id": "8eb248d2",
   "metadata": {},
   "outputs": [
    {
     "ename": "NameError",
     "evalue": "name 'xe' is not defined",
     "output_type": "error",
     "traceback": [
      "\u001b[0;31m---------------------------------------------------------------------------\u001b[0m",
      "\u001b[0;31mNameError\u001b[0m                                 Traceback (most recent call last)",
      "Input \u001b[0;32mIn [19]\u001b[0m, in \u001b[0;36m<cell line: 3>\u001b[0;34m()\u001b[0m\n\u001b[1;32m      1\u001b[0m \u001b[38;5;66;03m# Perform conservative regridding\u001b[39;00m\n\u001b[1;32m      2\u001b[0m target_grid \u001b[38;5;241m=\u001b[39m imap\u001b[38;5;241m.\u001b[39mgeo_em_file[\u001b[38;5;241m-\u001b[39m\u001b[38;5;241m1\u001b[39m]\n\u001b[0;32m----> 3\u001b[0m regridded_data \u001b[38;5;241m=\u001b[39m \u001b[43mregrid_dataarray_conservatively\u001b[49m\u001b[43m(\u001b[49m\u001b[43mxarray_data\u001b[49m\u001b[43m,\u001b[49m\u001b[43m \u001b[49m\u001b[43mtarget_grid\u001b[49m\u001b[43m)\u001b[49m\n\u001b[1;32m      5\u001b[0m \u001b[38;5;28mprint\u001b[39m(regridded_data)\n",
      "Input \u001b[0;32mIn [15]\u001b[0m, in \u001b[0;36mregrid_dataarray_conservatively\u001b[0;34m(src_dataarray, target_grid)\u001b[0m\n\u001b[1;32m      2\u001b[0m \u001b[38;5;250m\u001b[39m\u001b[38;5;124;03m\"\"\"\u001b[39;00m\n\u001b[1;32m      3\u001b[0m \u001b[38;5;124;03mRegrids a source xarray DataArray onto a target grid using conservative regridding.\u001b[39;00m\n\u001b[1;32m      4\u001b[0m \n\u001b[0;32m   (...)\u001b[0m\n\u001b[1;32m     10\u001b[0m \u001b[38;5;124;03m- xarray.DataArray regridded onto the target grid.\u001b[39;00m\n\u001b[1;32m     11\u001b[0m \u001b[38;5;124;03m\"\"\"\u001b[39;00m\n\u001b[1;32m     12\u001b[0m \u001b[38;5;66;03m# Create the regridder object for conservative regridding\u001b[39;00m\n\u001b[0;32m---> 13\u001b[0m regridder \u001b[38;5;241m=\u001b[39m \u001b[43mxe\u001b[49m\u001b[38;5;241m.\u001b[39mRegridder(src_dataarray, target_grid, method\u001b[38;5;241m=\u001b[39m\u001b[38;5;124m'\u001b[39m\u001b[38;5;124mconservative\u001b[39m\u001b[38;5;124m'\u001b[39m, reuse_weights\u001b[38;5;241m=\u001b[39m\u001b[38;5;28;01mTrue\u001b[39;00m)\n\u001b[1;32m     15\u001b[0m \u001b[38;5;66;03m# Perform the regridding operation\u001b[39;00m\n\u001b[1;32m     16\u001b[0m regridded_data \u001b[38;5;241m=\u001b[39m regridder(src_dataarray)\n",
      "\u001b[0;31mNameError\u001b[0m: name 'xe' is not defined"
     ]
    }
   ],
   "source": [
    "# Perform conservative regridding\n",
    "target_grid = imap.geo_em_file[-1]\n",
    "regridded_data = regrid_dataarray_conservatively(xarray_data, target_grid)\n",
    "\n",
    "print(regridded_data)\n"
   ]
  },
  {
   "cell_type": "code",
   "execution_count": 4,
   "id": "95953d4f",
   "metadata": {},
   "outputs": [
    {
     "data": {
      "text/plain": [
       "[[-2.168944, 38.738232],\n",
       " [-2.168944, 41.19643],\n",
       " [4.771861, 41.19643],\n",
       " [4.771861, 38.738232]]"
      ]
     },
     "execution_count": 4,
     "metadata": {},
     "output_type": "execute_result"
    }
   ],
   "source": [
    "imap.aoi_extent_coordinates[0][0]"
   ]
  }
 ],
 "metadata": {
  "kernelspec": {
   "display_name": "Python 3 (ipykernel)",
   "language": "python",
   "name": "python3"
  },
  "language_info": {
   "codemirror_mode": {
    "name": "ipython",
    "version": 3
   },
   "file_extension": ".py",
   "mimetype": "text/x-python",
   "name": "python",
   "nbconvert_exporter": "python",
   "pygments_lexer": "ipython3",
   "version": "3.9.12"
  }
 },
 "nbformat": 4,
 "nbformat_minor": 5
}
