{
 "cells": [
  {
   "cell_type": "code",
   "execution_count": 1,
   "id": "9b5c4d5a",
   "metadata": {},
   "outputs": [
    {
     "name": "stdout",
     "output_type": "stream",
     "text": [
      "The tile for latitude 40.7128 and longitude -74.006 at zoom level 3 is: (2, 3)\n"
     ]
    }
   ],
   "source": [
    "import math\n",
    "\n",
    "def lat_lon_to_tile(lat, lon, zoom):\n",
    "    \"\"\"\n",
    "    Convert a latitude and longitude to tile coordinates for a given zoom level.\n",
    "    \n",
    "    Args:\n",
    "        lat (float): Latitude in degrees.\n",
    "        lon (float): Longitude in degrees.\n",
    "        zoom (int): Zoom level, corresponding to the number of divisions along each axis.\n",
    "                    For example, for a 8x8 grid, use zoom=3 (since 2^3 = 8).\n",
    "    \n",
    "    Returns:\n",
    "        (int, int): Tuple of (x_tile, y_tile) representing the tile coordinates.\n",
    "    \"\"\"\n",
    "    n = 2 ** zoom  # Number of tiles per axis\n",
    "\n",
    "    x_tile = int((lon + 180.0) / 360.0 * n)\n",
    "    y_tile = int((1.0 - math.asinh(math.tan(math.radians(lat))) / math.pi) / 2.0 * n)\n",
    "\n",
    "    return x_tile, y_tile\n",
    "\n",
    "# Example usage\n",
    "lat = 40.7128  # Latitude of New York City\n",
    "lon = -74.0060  # Longitude of New York City\n",
    "zoom = 3  # Corresponding to an 8x8 grid\n",
    "\n",
    "x_tile, y_tile = lat_lon_to_tile(lat, lon, zoom)\n",
    "\n",
    "print(f\"The tile for latitude {lat} and longitude {lon} at zoom level {zoom} is: ({x_tile}, {y_tile})\")\n"
   ]
  },
  {
   "cell_type": "code",
   "execution_count": 2,
   "id": "7da3426e",
   "metadata": {},
   "outputs": [
    {
     "name": "stdout",
     "output_type": "stream",
     "text": [
      "New York City is in tile: (5, 2)\n"
     ]
    }
   ],
   "source": [
    "def global_coords_to_tile(lat, lon, grid_size=8):\n",
    "    \"\"\"\n",
    "    Calculate the tile indices for a given latitude and longitude on a global grid.\n",
    "\n",
    "    Args:\n",
    "        lat (float): Latitude in degrees.\n",
    "        lon (float): Longitude in degrees.\n",
    "        grid_size (int): The number of tiles per row and per column (8 for an 8x8 grid).\n",
    "\n",
    "    Returns:\n",
    "        (int, int): A tuple containing the row and column indices of the tile.\n",
    "    \"\"\"\n",
    "    # Ensure the latitude and longitude are within their bounds\n",
    "    lat = max(min(lat, 90), -90)\n",
    "    lon = max(min(lon, 180), -180)\n",
    "\n",
    "    # Calculate the relative position of the lat and lon on the grid\n",
    "    lat_pos = (lat + 90) / 180  # Normalize to a 0-1 range\n",
    "    lon_pos = (lon + 180) / 360  # Normalize to a 0-1 range\n",
    "\n",
    "    # Calculate the tile indices\n",
    "    row_index = int(lat_pos * grid_size)\n",
    "    col_index = int(lon_pos * grid_size)\n",
    "\n",
    "    # Adjust indices if they are on the edge of the grid\n",
    "    if row_index == grid_size:\n",
    "        row_index -= 1\n",
    "    if col_index == grid_size:\n",
    "        col_index -= 1\n",
    "\n",
    "    return (row_index, col_index)\n",
    "\n",
    "# Example usage for New York City\n",
    "lat_nyc = 40.7128  # Latitude\n",
    "lon_nyc = -74.0060  # Longitude\n",
    "tile_nyc = global_coords_to_tile(lat_nyc, lon_nyc, 8)\n",
    "\n",
    "print(f\"New York City is in tile: {tile_nyc}\")\n"
   ]
  },
  {
   "cell_type": "code",
   "execution_count": 3,
   "id": "bf9f02ed",
   "metadata": {},
   "outputs": [
    {
     "name": "stdout",
     "output_type": "stream",
     "text": [
      "The tile for latitude 40.7128 and longitude -74.006 is: 02_02_zoom3_urban_fraction_100m.tif\n"
     ]
    }
   ],
   "source": [
    "def lat_lon_to_tile_index(lat, lon, grid_rows=8, grid_cols=8):\n",
    "    \"\"\"\n",
    "    Convert latitude and longitude to a grid tile index, starting from the top-left corner.\n",
    "\n",
    "    Args:\n",
    "        lat (float): Latitude in degrees (-90 to 90).\n",
    "        lon (float): Longitude in degrees (-180 to 180).\n",
    "        grid_rows (int): Number of rows in the grid.\n",
    "        grid_cols (int): Number of columns in the grid.\n",
    "\n",
    "    Returns:\n",
    "        (int, int): A tuple (row_index, col_index) representing the tile's position.\n",
    "    \"\"\"\n",
    "    # Latitude index calculation\n",
    "    # Convert lat to a 0 (top) to 1 (bottom) scale relative to the grid\n",
    "    lat_relative = (90 - lat) / 180  # 0 at the top, 1 at the bottom\n",
    "\n",
    "    # Longitude index calculation\n",
    "    # Convert lon to a 0 (left) to 1 (right) scale relative to the grid\n",
    "    lon_relative = (lon + 180) / 360  # 0 on the left, 1 on the right\n",
    "\n",
    "    # Calculate the tile indices\n",
    "    row_index = int(lat_relative * grid_rows)\n",
    "    col_index = int(lon_relative * grid_cols)\n",
    "\n",
    "    # Ensure indices are within the grid bounds\n",
    "    row_index = min(max(row_index, 0), grid_rows - 1)\n",
    "    col_index = min(max(col_index, 0), grid_cols - 1)\n",
    "\n",
    "    return row_index, col_index\n",
    "\n",
    "# Example: New York City coordinates\n",
    "lat = 40.7128  # Latitude\n",
    "lon = -74.0060  # Longitude\n",
    "\n",
    "row_index, col_index = lat_lon_to_tile_index(lat, lon, 8, 8)\n",
    "\n",
    "# Formatting to match your naming convention\n",
    "tile_name = f\"{row_index:02d}_{col_index:02d}_zoom3_urban_fraction_100m.tif\"\n",
    "print(f\"The tile for latitude {lat} and longitude {lon} is: {tile_name}\")\n"
   ]
  },
  {
   "cell_type": "code",
   "execution_count": 5,
   "id": "98edefae",
   "metadata": {},
   "outputs": [
    {
     "name": "stdout",
     "output_type": "stream",
     "text": [
      "The tile for latitude -4.3 and longitude -78.79 is: 02_04_02_zoom3_urban_fraction_100m.tif\n"
     ]
    }
   ],
   "source": [
    "lon, lat = -78.79,-4.30\n",
    "row_index, col_index = lat_lon_to_tile_index(lat, lon, 8, 8)\n",
    "\n",
    "# Formatting to match your naming convention\n",
    "tile_name = f\"02_{row_index:02d}_{col_index:02d}_zoom3_urban_fraction_100m.tif\"\n",
    "print(f\"The tile for latitude {lat} and longitude {lon} is: {tile_name}\")\n"
   ]
  },
  {
   "cell_type": "code",
   "execution_count": 6,
   "id": "705586e8",
   "metadata": {},
   "outputs": [
    {
     "name": "stdout",
     "output_type": "stream",
     "text": [
      "The tile for latitude 40.7128 and longitude -74.006 at zoom level 4 is: 04_04_zoom4_urban_fraction_100m.tif\n",
      "The tile for latitude 34.0522 and longitude -118.2437 at zoom level 4 is: 04_02_zoom4_urban_fraction_100m.tif\n",
      "The tile for latitude 51.5074 and longitude -0.1278 at zoom level 4 is: 03_07_zoom4_urban_fraction_100m.tif\n",
      "The tile for latitude -33.8688 and longitude 151.2093 at zoom level 4 is: 11_14_zoom4_urban_fraction_100m.tif\n"
     ]
    }
   ],
   "source": [
    "# Define four pairs of latitude and longitude\n",
    "locations = [\n",
    "    (40.7128, -74.0060),  # New York City\n",
    "    (34.0522, -118.2437),  # Los Angeles\n",
    "    (51.5074, -0.1278),  # London\n",
    "    (-33.8688, 151.2093)  # Sydney\n",
    "]\n",
    "\n",
    "# Loop through each location, calculate its tile, and print the result\n",
    "for lat, lon in locations:\n",
    "    row_index, col_index = lat_lon_to_tile_index(lat, lon, 16, 16)\n",
    "    tile_name = f\"{row_index:02d}_{col_index:02d}_zoom4_urban_fraction_100m.tif\"\n",
    "    print(f\"The tile for latitude {lat} and longitude {lon} at zoom level 4 is: {tile_name}\")\n"
   ]
  },
  {
   "cell_type": "code",
   "execution_count": 4,
   "id": "2e5d6615",
   "metadata": {},
   "outputs": [
    {
     "name": "stdout",
     "output_type": "stream",
     "text": [
      "The tile for latitude 40.7128 and longitude -74.006 at zoom level 4 is: 19_18_zoom4_urban_fraction_100m.tif\n",
      "The tile for latitude 34.0522 and longitude -118.2437 at zoom level 4 is: 22_10_zoom4_urban_fraction_100m.tif\n",
      "The tile for latitude 51.5074 and longitude -0.1278 at zoom level 4 is: 14_31_zoom4_urban_fraction_100m.tif\n",
      "The tile for latitude -33.8688 and longitude 151.2093 at zoom level 4 is: 52_58_zoom4_urban_fraction_100m.tif\n",
      "The tile for latitude 45.18377 and longitude 5.72521 at zoom level 4 is: 17_33_zoom4_urban_fraction_100m.tif\n"
     ]
    }
   ],
   "source": [
    "def lat_lon_to_tile_index_adjusted(lat, lon, grid_rows=16, grid_cols=16):\n",
    "    \"\"\"\n",
    "    Convert latitude and longitude to a grid tile index, considering the dataset's specific latitude range.\n",
    "    \n",
    "    Args:\n",
    "        lat (float): Latitude in degrees.\n",
    "        lon (float): Longitude in degrees.\n",
    "        grid_rows (int): Number of rows in the grid.\n",
    "        grid_cols (int): Number of columns in the grid.\n",
    "\n",
    "    Returns:\n",
    "        (int, int): A tuple (row_index, col_index) representing the tile's position.\n",
    "    \"\"\"\n",
    "    # Adjust the latitude range from +84 to -60\n",
    "    lat_min = -60\n",
    "    lat_max = 84\n",
    "\n",
    "    # Normalize latitude and longitude to a 0-1 scale based on the dataset's coverage\n",
    "    lat_relative = (lat - lat_max) / (lat_min - lat_max)  # Adjusted for specific lat range\n",
    "    lon_relative = (lon + 180) / 360  # 0 on the left (west), 1 on the right (east)\n",
    "\n",
    "    # Calculate the tile indices\n",
    "    row_index = int(lat_relative * grid_rows)\n",
    "    col_index = int(lon_relative * grid_cols)\n",
    "\n",
    "    # Ensure indices are within the bounds of the grid\n",
    "    row_index = min(max(row_index, 0), grid_rows - 1)\n",
    "    col_index = min(max(col_index, 0), grid_cols - 1)\n",
    "\n",
    "    return row_index, col_index\n",
    "\n",
    "# Example usage\n",
    "locations = [\n",
    "    (40.7128, -74.0060),  # New York City\n",
    "    (34.0522, -118.2437),  # Los Angeles\n",
    "    (51.5074, -0.1278),    # London\n",
    "    (-33.8688, 151.2093),   # Sydney\n",
    "    (45.18377, 5.725210)   # Grenoble\n",
    "]\n",
    "\n",
    "for lat, lon in locations:\n",
    "    row_index, col_index = lat_lon_to_tile_index_adjusted(lat, lon, 64, 64)\n",
    "    tile_name = f\"{row_index:02d}_{col_index:02d}_zoom4_urban_fraction_100m.tif\"\n",
    "    print(f\"The tile for latitude {lat} and longitude {lon} at zoom level 4 is: {tile_name}\")\n"
   ]
  },
  {
   "cell_type": "code",
   "execution_count": 1,
   "id": "0aa4a0e2",
   "metadata": {},
   "outputs": [
    {
     "ename": "ModuleNotFoundError",
     "evalue": "No module named 'osgeo'",
     "output_type": "error",
     "traceback": [
      "\u001b[0;31m---------------------------------------------------------------------------\u001b[0m",
      "\u001b[0;31mModuleNotFoundError\u001b[0m                       Traceback (most recent call last)",
      "Input \u001b[0;32mIn [1]\u001b[0m, in \u001b[0;36m<cell line: 1>\u001b[0;34m()\u001b[0m\n\u001b[0;32m----> 1\u001b[0m \u001b[38;5;28;01mfrom\u001b[39;00m \u001b[38;5;21;01mosgeo\u001b[39;00m \u001b[38;5;28;01mimport\u001b[39;00m gdal\n\u001b[1;32m      3\u001b[0m \u001b[38;5;66;03m# List of TIFF files to merge\u001b[39;00m\n\u001b[1;32m      4\u001b[0m tiff_files \u001b[38;5;241m=\u001b[39m [\n\u001b[1;32m      5\u001b[0m     \u001b[38;5;124m'\u001b[39m\u001b[38;5;124mdata/FU_tiles_zoom4/00_00_zoom4_urban_fraction_100m.tif\u001b[39m\u001b[38;5;124m'\u001b[39m,\n\u001b[1;32m      6\u001b[0m     \u001b[38;5;124m'\u001b[39m\u001b[38;5;124mdata/FU_tiles_zoom4/00_01_zoom4_urban_fraction_100m.tif\u001b[39m\u001b[38;5;124m'\u001b[39m,\n\u001b[1;32m      7\u001b[0m     \u001b[38;5;124m'\u001b[39m\u001b[38;5;124mdata/FU_tiles_zoom4/01_00_zoom4_urban_fraction_100m.tif\u001b[39m\u001b[38;5;124m'\u001b[39m,\n\u001b[1;32m      8\u001b[0m     \u001b[38;5;124m'\u001b[39m\u001b[38;5;124mdata/FU_tiles_zoom4/01_01_zoom4_urban_fraction_100m.tif\u001b[39m\u001b[38;5;124m'\u001b[39m\n\u001b[1;32m      9\u001b[0m ]\n",
      "\u001b[0;31mModuleNotFoundError\u001b[0m: No module named 'osgeo'"
     ]
    }
   ],
   "source": [
    "from osgeo import gdal\n",
    "\n",
    "# List of TIFF files to merge\n",
    "tiff_files = [\n",
    "    '00_00_zoom4_urban_fraction_100m.tif',\n",
    "    '00_01_zoom4_urban_fraction_100m.tif',\n",
    "    '01_00_zoom4_urban_fraction_100m.tif',\n",
    "    '01_01_zoom4_urban_fraction_100m.tif'\n",
    "]\n",
    "\n",
    "# Output file name\n",
    "output_file = 'python_merged_zoom4_urban_fraction_100m.tif'\n",
    "\n",
    "# Create a GDAL virtual file system that holds the list of files to be merged\n",
    "vrt_options = gdal.BuildVRTOptions(resampleAlg='nearest', addAlpha=False, VRTNodata=0)\n",
    "vrt_filename = gdal.BuildVRT('/vsimem/temp.vrt', tiff_files, options=vrt_options)\n",
    "\n",
    "# Open the VRT file\n",
    "vrt_ds = gdal.Open(vrt_filename)\n",
    "\n",
    "# Finally, use gdal_translate to convert the VRT to the actual merged TIFF\n",
    "gdal.Translate(output_file, vrt_ds, options=\"-co COMPRESS=LZW\")\n",
    "\n",
    "# Clean up\n",
    "vrt_ds = None\n",
    "gdal.Unlink(vrt_filename)\n",
    "\n",
    "print(f'Merged file created: {output_file}')\n",
    "\n"
   ]
  },
  {
   "cell_type": "code",
   "execution_count": 5,
   "id": "06c72ede-6ba4-4dae-b869-b49cb14700ef",
   "metadata": {},
   "outputs": [
    {
     "name": "stdout",
     "output_type": "stream",
     "text": [
      "File successfully downloaded and extracted.\n"
     ]
    }
   ],
   "source": [
    "import requests\n",
    "import zipfile\n",
    "import io\n",
    "\n",
    "# URL of the ZIP file containing the TIFF\n",
    "zip_file_url = \"https://github.com/jacobogabeiraspenas/UrbanSurfAce/raw/main/data/urban_fraction/zoom_4/02_14_zoom4_urban_fraction_100m_int8.zip\"\n",
    "\n",
    "def download_and_extract_zip(zip_url):\n",
    "    # Send a GET request to the URL\n",
    "    response = requests.get(zip_url)\n",
    "    # Check if the request was successful\n",
    "    if response.status_code == 200:\n",
    "        # Open the ZIP file contained in the response's bytes\n",
    "        with zipfile.ZipFile(io.BytesIO(response.content)) as thezip:\n",
    "            # Extract all the contents into the current directory\n",
    "            thezip.extractall()\n",
    "        print(\"File successfully downloaded and extracted.\")\n",
    "    else:\n",
    "        print(f\"Failed to download the file. Status code: {response.status_code}\")\n",
    "\n",
    "# Use the function\n",
    "download_and_extract_zip(zip_file_url)\n"
   ]
  },
  {
   "cell_type": "code",
   "execution_count": 8,
   "id": "3e2b1b57-fe05-42d0-94e2-1d882a045af1",
   "metadata": {},
   "outputs": [
    {
     "name": "stdout",
     "output_type": "stream",
     "text": [
      "total 5272896\n",
      "-rw-r--r--     1 gabeiras3j  staff   2.6M Mar 19 16:26 02_14_zoom4_urban_fraction_100m_int8.tif\n",
      "-rw-r--r--     1 gabeiras3j  staff    96B Mar 18 18:53 1\n",
      "-rwxr-xr-x     1 gabeiras3j  staff   872B Mar 16 09:22 \u001b[31m2split_tif.sh\u001b[m\u001b[m*\n",
      "drwxr-xr-x    18 gabeiras3j  staff   576B Mar 16 10:13 \u001b[1m\u001b[36mFU_tiles_zoom2\u001b[m\u001b[m/\n",
      "drwxr-xr-x    68 gabeiras3j  staff   2.1K Mar 16 10:12 \u001b[1m\u001b[36mFU_tiles_zoom3\u001b[m\u001b[m/\n",
      "-rw-r--r--     1 gabeiras3j  staff    26B Feb 28 14:58 Makefile\n",
      "drwxr-xr-x     5 gabeiras3j  staff   160B Feb 28 15:01 \u001b[1m\u001b[36mNotebooks\u001b[m\u001b[m/\n",
      "drwxr-xr-x  3333 gabeiras3j  staff   104K Mar 13 14:30 \u001b[1m\u001b[36mOSM_tiles\u001b[m\u001b[m/\n",
      "-rw-r--r--     1 gabeiras3j  staff   2.1K Feb 28 14:58 README.md\n",
      "-rw-r--r--     1 gabeiras3j  staff    14K Mar 18 18:21 Tiles_FU.ipynb\n",
      "-rw-r--r--     1 gabeiras3j  staff   3.0K Mar 12 17:42 Untitled.ipynb\n",
      "-rw-r--r--     1 gabeiras3j  staff    57K Mar 12 13:06 Untitled1.ipynb\n",
      "-rw-r--r--     1 gabeiras3j  staff   381K Mar 13 11:51 Untitled2.ipynb\n",
      "-rw-r--r--     1 gabeiras3j  staff   126K Mar 14 10:40 Untitled3.ipynb\n",
      "-rw-r--r--     1 gabeiras3j  staff    34K Mar  6 11:10 Untitled6.ipynb\n",
      "-rw-r--r--     1 gabeiras3j  staff     0B Feb 28 14:58 __innit__.py\n",
      "drwxr-xr-x     5 gabeiras3j  staff   160B Mar 13 18:29 \u001b[1m\u001b[36m__pycache__\u001b[m\u001b[m/\n",
      "-rw-r--r--     1 gabeiras3j  staff   102M Mar 13 18:57 buildings_merged.json\n",
      "drwxr-xr-x     3 gabeiras3j  staff    96B Mar 18 18:53 \u001b[1m\u001b[36mdata\u001b[m\u001b[m/\n",
      "-rw-r--r--     1 gabeiras3j  staff   706K Mar 13 18:29 dsxr_geo_em_before.nc\n",
      "-rw-r--r--     1 gabeiras3j  staff   206K Mar 15 17:35 geo_em_example.tif\n",
      "-rw-r--r--     1 gabeiras3j  staff    57M Mar 13 19:14 geo_em_modified.nc\n",
      "-rw-r--r--     1 gabeiras3j  staff    57M Mar 13 19:24 geo_em_modified_and_lu_adjusted.nc\n",
      "-rw-r--r--     1 gabeiras3j  staff   6.1M Mar 13 14:49 madrid_buildings_merged.json\n",
      "-rw-r--r--     1 gabeiras3j  staff   6.1M Mar 13 14:30 old_buildings_merged.json\n",
      "-rw-r--r--     1 gabeiras3j  staff   351B Feb 28 14:58 requirements.txt\n",
      "-rwxr-xr-x     1 gabeiras3j  staff   832B Mar 16 09:11 \u001b[31msplit_tif.sh\u001b[m\u001b[m*\n",
      "-rw-r--r--     1 gabeiras3j  staff    36M Mar 13 17:05 temp_updated_file_iteration_1.json\n",
      "-rw-r--r--     1 gabeiras3j  staff    25M Mar 13 17:06 temp_updated_file_iteration_2.json\n",
      "-rw-r--r--     1 gabeiras3j  staff    21M Mar 13 17:06 temp_updated_file_iteration_3.json\n",
      "-rw-r--r--     1 gabeiras3j  staff    19M Mar 13 17:06 temp_updated_file_iteration_4.json\n",
      "-rw-r--r--     1 gabeiras3j  staff    21M Mar 13 17:06 temp_updated_file_with_area_perimeter.json\n",
      "-rw-r--r--     1 gabeiras3j  staff   2.2G Mar 16 09:10 urban_fraction_100m.tif\n",
      "-rw-r--r--     1 gabeiras3j  staff    36K Mar 14 16:53 urban_utils.py\n",
      "-rw-r--r--     1 gabeiras3j  staff    40K Mar 13 11:20 urban_utils_Copy1.py\n",
      "-rw-r--r--     1 gabeiras3j  staff    36K Mar 13 15:25 urban_utils_Copy2.py\n",
      "-rw-r--r--     1 gabeiras3j  staff   270B Mar  8 19:25 webs.txt\n"
     ]
    }
   ],
   "source": [
    "ls -lh"
   ]
  },
  {
   "cell_type": "code",
   "execution_count": null,
   "id": "e8ce0d85-5bbb-4cee-b8d1-2c2f62978a8c",
   "metadata": {},
   "outputs": [],
   "source": []
  }
 ],
 "metadata": {
  "kernelspec": {
   "display_name": "Python 3 (ipykernel)",
   "language": "python",
   "name": "python3"
  },
  "language_info": {
   "codemirror_mode": {
    "name": "ipython",
    "version": 3
   },
   "file_extension": ".py",
   "mimetype": "text/x-python",
   "name": "python",
   "nbconvert_exporter": "python",
   "pygments_lexer": "ipython3",
   "version": "3.9.12"
  }
 },
 "nbformat": 4,
 "nbformat_minor": 5
}
