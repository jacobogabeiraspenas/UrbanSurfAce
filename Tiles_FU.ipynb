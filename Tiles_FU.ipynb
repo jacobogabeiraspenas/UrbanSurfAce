{
 "cells": [
  {
   "cell_type": "code",
   "execution_count": 1,
   "id": "ce48393d",
   "metadata": {},
   "outputs": [
    {
     "name": "stdout",
     "output_type": "stream",
     "text": [
      "The tile for latitude 40.7128 and longitude -74.006 at zoom level 3 is: (2, 3)\n"
     ]
    }
   ],
   "source": [
    "import math\n",
    "\n",
    "def lat_lon_to_tile(lat, lon, zoom):\n",
    "    \"\"\"\n",
    "    Convert a latitude and longitude to tile coordinates for a given zoom level.\n",
    "    \n",
    "    Args:\n",
    "        lat (float): Latitude in degrees.\n",
    "        lon (float): Longitude in degrees.\n",
    "        zoom (int): Zoom level, corresponding to the number of divisions along each axis.\n",
    "                    For example, for a 8x8 grid, use zoom=3 (since 2^3 = 8).\n",
    "    \n",
    "    Returns:\n",
    "        (int, int): Tuple of (x_tile, y_tile) representing the tile coordinates.\n",
    "    \"\"\"\n",
    "    n = 2 ** zoom  # Number of tiles per axis\n",
    "\n",
    "    x_tile = int((lon + 180.0) / 360.0 * n)\n",
    "    y_tile = int((1.0 - math.asinh(math.tan(math.radians(lat))) / math.pi) / 2.0 * n)\n",
    "\n",
    "    return x_tile, y_tile\n",
    "\n",
    "# Example usage\n",
    "lat = 40.7128  # Latitude of New York City\n",
    "lon = -74.0060  # Longitude of New York City\n",
    "zoom = 3  # Corresponding to an 8x8 grid\n",
    "\n",
    "x_tile, y_tile = lat_lon_to_tile(lat, lon, zoom)\n",
    "\n",
    "print(f\"The tile for latitude {lat} and longitude {lon} at zoom level {zoom} is: ({x_tile}, {y_tile})\")\n"
   ]
  },
  {
   "cell_type": "code",
   "execution_count": 2,
   "id": "d31398ef",
   "metadata": {},
   "outputs": [
    {
     "name": "stdout",
     "output_type": "stream",
     "text": [
      "New York City is in tile: (5, 2)\n"
     ]
    }
   ],
   "source": [
    "def global_coords_to_tile(lat, lon, grid_size=8):\n",
    "    \"\"\"\n",
    "    Calculate the tile indices for a given latitude and longitude on a global grid.\n",
    "\n",
    "    Args:\n",
    "        lat (float): Latitude in degrees.\n",
    "        lon (float): Longitude in degrees.\n",
    "        grid_size (int): The number of tiles per row and per column (8 for an 8x8 grid).\n",
    "\n",
    "    Returns:\n",
    "        (int, int): A tuple containing the row and column indices of the tile.\n",
    "    \"\"\"\n",
    "    # Ensure the latitude and longitude are within their bounds\n",
    "    lat = max(min(lat, 90), -90)\n",
    "    lon = max(min(lon, 180), -180)\n",
    "\n",
    "    # Calculate the relative position of the lat and lon on the grid\n",
    "    lat_pos = (lat + 90) / 180  # Normalize to a 0-1 range\n",
    "    lon_pos = (lon + 180) / 360  # Normalize to a 0-1 range\n",
    "\n",
    "    # Calculate the tile indices\n",
    "    row_index = int(lat_pos * grid_size)\n",
    "    col_index = int(lon_pos * grid_size)\n",
    "\n",
    "    # Adjust indices if they are on the edge of the grid\n",
    "    if row_index == grid_size:\n",
    "        row_index -= 1\n",
    "    if col_index == grid_size:\n",
    "        col_index -= 1\n",
    "\n",
    "    return (row_index, col_index)\n",
    "\n",
    "# Example usage for New York City\n",
    "lat_nyc = 40.7128  # Latitude\n",
    "lon_nyc = -74.0060  # Longitude\n",
    "tile_nyc = global_coords_to_tile(lat_nyc, lon_nyc, 8)\n",
    "\n",
    "print(f\"New York City is in tile: {tile_nyc}\")\n"
   ]
  },
  {
   "cell_type": "code",
   "execution_count": 3,
   "id": "792e259f",
   "metadata": {},
   "outputs": [
    {
     "name": "stdout",
     "output_type": "stream",
     "text": [
      "The tile for latitude 40.7128 and longitude -74.006 is: 02_02_zoom3_urban_fraction_100m.tif\n"
     ]
    }
   ],
   "source": [
    "def lat_lon_to_tile_index(lat, lon, grid_rows=8, grid_cols=8):\n",
    "    \"\"\"\n",
    "    Convert latitude and longitude to a grid tile index, starting from the top-left corner.\n",
    "\n",
    "    Args:\n",
    "        lat (float): Latitude in degrees (-90 to 90).\n",
    "        lon (float): Longitude in degrees (-180 to 180).\n",
    "        grid_rows (int): Number of rows in the grid.\n",
    "        grid_cols (int): Number of columns in the grid.\n",
    "\n",
    "    Returns:\n",
    "        (int, int): A tuple (row_index, col_index) representing the tile's position.\n",
    "    \"\"\"\n",
    "    # Latitude index calculation\n",
    "    # Convert lat to a 0 (top) to 1 (bottom) scale relative to the grid\n",
    "    lat_relative = (90 - lat) / 180  # 0 at the top, 1 at the bottom\n",
    "\n",
    "    # Longitude index calculation\n",
    "    # Convert lon to a 0 (left) to 1 (right) scale relative to the grid\n",
    "    lon_relative = (lon + 180) / 360  # 0 on the left, 1 on the right\n",
    "\n",
    "    # Calculate the tile indices\n",
    "    row_index = int(lat_relative * grid_rows)\n",
    "    col_index = int(lon_relative * grid_cols)\n",
    "\n",
    "    # Ensure indices are within the grid bounds\n",
    "    row_index = min(max(row_index, 0), grid_rows - 1)\n",
    "    col_index = min(max(col_index, 0), grid_cols - 1)\n",
    "\n",
    "    return row_index, col_index\n",
    "\n",
    "# Example: New York City coordinates\n",
    "lat = 40.7128  # Latitude\n",
    "lon = -74.0060  # Longitude\n",
    "\n",
    "row_index, col_index = lat_lon_to_tile_index(lat, lon, 8, 8)\n",
    "\n",
    "# Formatting to match your naming convention\n",
    "tile_name = f\"{row_index:02d}_{col_index:02d}_zoom3_urban_fraction_100m.tif\"\n",
    "print(f\"The tile for latitude {lat} and longitude {lon} is: {tile_name}\")\n"
   ]
  },
  {
   "cell_type": "code",
   "execution_count": 5,
   "id": "990c372b",
   "metadata": {},
   "outputs": [
    {
     "name": "stdout",
     "output_type": "stream",
     "text": [
      "The tile for latitude -4.3 and longitude -78.79 is: 02_04_02_zoom3_urban_fraction_100m.tif\n"
     ]
    }
   ],
   "source": [
    "lon, lat = -78.79,-4.30\n",
    "row_index, col_index = lat_lon_to_tile_index(lat, lon, 8, 8)\n",
    "\n",
    "# Formatting to match your naming convention\n",
    "tile_name = f\"02_{row_index:02d}_{col_index:02d}_zoom3_urban_fraction_100m.tif\"\n",
    "print(f\"The tile for latitude {lat} and longitude {lon} is: {tile_name}\")\n"
   ]
  },
  {
   "cell_type": "code",
   "execution_count": null,
   "id": "dc9947ab",
   "metadata": {},
   "outputs": [],
   "source": []
  }
 ],
 "metadata": {
  "kernelspec": {
   "display_name": "Python 3 (ipykernel)",
   "language": "python",
   "name": "python3"
  },
  "language_info": {
   "codemirror_mode": {
    "name": "ipython",
    "version": 3
   },
   "file_extension": ".py",
   "mimetype": "text/x-python",
   "name": "python",
   "nbconvert_exporter": "python",
   "pygments_lexer": "ipython3",
   "version": "3.9.12"
  }
 },
 "nbformat": 4,
 "nbformat_minor": 5
}
