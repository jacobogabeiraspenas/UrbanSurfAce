{
 "cells": [
  {
   "cell_type": "code",
   "execution_count": 3,
   "id": "500edd73",
   "metadata": {},
   "outputs": [],
   "source": [
    "import urban_utils"
   ]
  },
  {
   "cell_type": "code",
   "execution_count": 4,
   "id": "d60dd23c",
   "metadata": {},
   "outputs": [
    {
     "data": {
      "application/vnd.jupyter.widget-view+json": {
       "model_id": "ecc58aaa3da7442ba132a7db22193631",
       "version_major": 2,
       "version_minor": 0
      },
      "text/plain": [
       "Map(center=[40.41671327747509, -3.702635610085826], controls=(ZoomControl(options=['position', 'zoom_in_text',…"
      ]
     },
     "metadata": {},
     "output_type": "display_data"
    }
   ],
   "source": [
    "imap = urban_utils.InteractiveMap()\n",
    "imap.display()"
   ]
  },
  {
   "cell_type": "code",
   "execution_count": 3,
   "id": "d1b5c893",
   "metadata": {},
   "outputs": [],
   "source": [
    "imap.add_geo_em_file('../Desktop/wetransfer_datos-valencia_2024-03-06_1135/geo_em.d03.nc')"
   ]
  },
  {
   "cell_type": "code",
   "execution_count": null,
   "id": "e3624305",
   "metadata": {},
   "outputs": [
    {
     "name": "stdout",
     "output_type": "stream",
     "text": [
      "Loading files...\n",
      "Applying buffer and merging poligons...\n",
      "Iteration 1/4...\n"
     ]
    }
   ],
   "source": [
    "imap.calculate_URB_PARAM()"
   ]
  },
  {
   "cell_type": "code",
   "execution_count": 19,
   "id": "eb3cf4c9",
   "metadata": {},
   "outputs": [
    {
     "name": "stdout",
     "output_type": "stream",
     "text": [
      "total 197432\r\n",
      "-rw-r--r--  1 gabeiras3j  staff    26B Feb 28 14:58 Makefile\r\n",
      "drwxr-xr-x  5 gabeiras3j  staff   160B Feb 28 15:01 \u001b[1m\u001b[36mNotebooks\u001b[m\u001b[m/\r\n",
      "-rw-r--r--  1 gabeiras3j  staff   2.1K Feb 28 14:58 README.md\r\n",
      "-rw-r--r--  1 gabeiras3j  staff    42K Mar  7 00:45 Untitled.ipynb\r\n",
      "-rw-r--r--  1 gabeiras3j  staff    34K Mar  6 11:10 Untitled6.ipynb\r\n",
      "-rw-r--r--  1 gabeiras3j  staff     0B Feb 28 14:58 __innit__.py\r\n",
      "drwxr-xr-x  3 gabeiras3j  staff    96B Mar  6 15:04 \u001b[1m\u001b[36m__pycache__\u001b[m\u001b[m/\r\n",
      "-rw-r--r--  1 gabeiras3j  staff    82M Mar  6 15:57 buildings_merged.json\r\n",
      "-rw-r--r--  1 gabeiras3j  staff   351B Feb 28 14:58 requirements.txt\r\n",
      "-rw-r--r--  1 gabeiras3j  staff    32K Mar  6 17:31 urban_utils.py\r\n"
     ]
    }
   ],
   "source": [
    "ll -h"
   ]
  },
  {
   "cell_type": "code",
   "execution_count": null,
   "id": "b95aed11",
   "metadata": {},
   "outputs": [],
   "source": []
  }
 ],
 "metadata": {
  "kernelspec": {
   "display_name": "Python 3 (ipykernel)",
   "language": "python",
   "name": "python3"
  },
  "language_info": {
   "codemirror_mode": {
    "name": "ipython",
    "version": 3
   },
   "file_extension": ".py",
   "mimetype": "text/x-python",
   "name": "python",
   "nbconvert_exporter": "python",
   "pygments_lexer": "ipython3",
   "version": "3.9.12"
  }
 },
 "nbformat": 4,
 "nbformat_minor": 5
}
