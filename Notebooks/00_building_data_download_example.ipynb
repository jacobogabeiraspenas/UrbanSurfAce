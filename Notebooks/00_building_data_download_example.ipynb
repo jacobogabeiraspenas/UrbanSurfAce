{
 "cells": [
  {
   "cell_type": "code",
   "execution_count": 2,
   "id": "a8190353-33fd-454d-9ec4-eb1e417e5930",
   "metadata": {},
   "outputs": [
    {
     "name": "stdout",
     "output_type": "stream",
     "text": [
      "/Users/gabeiras3j//Desktop/Jacobo/00_PhD/01_year_2/07_People/08_Harsh/00_Data_Exploration/Explore_madrid_harsh.ipynb:    \"```mermaid\\n\",\n",
      "/Users/gabeiras3j//Desktop/Jacobo/00_PhD/01_year_2/07_People/08_Harsh/00_Data_Exploration/Explore_madrid_harsh.ipynb:    \"```mermaid\\n\",\n",
      "/Users/gabeiras3j//Desktop/Jacobo/00_PhD/01_year_2/07_People/08_Harsh/Explore_madrid_harsh.ipynb:    \"```mermaid\\n\",\n",
      "/Users/gabeiras3j//Desktop/Jacobo/00_PhD/01_year_2/07_People/08_Harsh/Explore_madrid_harsh.ipynb:    \"```mermaid\\n\",\n",
      "/Users/gabeiras3j//Desktop/Jacobo/00_PhD/01_year_2/01_Data/22_py4bem/00_py4bem_tests/py4bem_tests2.ipynb:    \"```mermaid\\n\",\n",
      "/Users/gabeiras3j//Desktop/Jacobo/00_PhD/01_year_2/01_Data/22_py4bem/00_py4bem_tests/py4bem_tests2.ipynb:    \"```mermaid\\n\",\n",
      "grep: /Users/gabeiras3j//Library/Application Support/MobileSync: Operation not permitted\n",
      "grep: /Users/gabeiras3j//Library/Application Support/CallHistoryTransactions: Operation not permitted\n",
      "grep: /Users/gabeiras3j//Library/Application Support/CloudDocs/session/db: Operation not permitted\n",
      "grep: /Users/gabeiras3j//Library/Application Support/com.apple.sharedfilelist: Operation not permitted\n",
      "grep: /Users/gabeiras3j//Library/Application Support/Knowledge: Operation not permitted\n",
      "grep: /Users/gabeiras3j//Library/Application Support/com.apple.TCC: Operation not permitted\n",
      "grep: /Users/gabeiras3j//Library/Application Support/FileProvider: Operation not permitted\n",
      "grep: /Users/gabeiras3j//Library/Application Support/com.apple.avfoundation/Frecents: Operation not permitted\n",
      "grep: /Users/gabeiras3j//Library/Application Support/CallHistoryDB: Operation not permitted\n",
      "grep: /Users/gabeiras3j//Library/Assistant/SiriVocabulary: Operation not permitted\n",
      "grep: /Users/gabeiras3j//Library/Autosave Information: Operation not permitted\n",
      "grep: /Users/gabeiras3j//Library/IdentityServices: Operation not permitted\n",
      "grep: /Users/gabeiras3j//Library/Messages: Operation not permitted\n",
      "grep: /Users/gabeiras3j//Library/HomeKit: Operation not permitted\n",
      "grep: /Users/gabeiras3j//Library/Sharing: Operation not permitted\n",
      "grep: /Users/gabeiras3j//Library/Mail: Operation not permitted\n",
      "grep: /Users/gabeiras3j//Library/DuetExpertCenter: Operation not permitted\n",
      "grep: /Users/gabeiras3j//Library/Accounts: Operation not permitted\n",
      "grep: /Users/gabeiras3j//Library/Safari: Operation not permitted\n",
      "grep: /Users/gabeiras3j//Library/Biome: Operation not permitted\n",
      "grep: /Users/gabeiras3j//Library/Shortcuts: Operation not permitted\n",
      "grep: /Users/gabeiras3j//Library/Suggestions: Operation not permitted\n",
      "grep: /Users/gabeiras3j//Library/Group Containers/group.com.apple.secure-control-center-preferences: Operation not permitted\n",
      "grep: /Users/gabeiras3j//Library/Group Containers/group.com.apple.notes: Operation not permitted\n",
      "grep: /Users/gabeiras3j//Library/Containers/com.apple.VoiceMemos: Operation not permitted\n",
      "grep: /Users/gabeiras3j//Library/Containers/com.apple.archiveutility: Operation not permitted\n",
      "grep: /Users/gabeiras3j//Library/Containers/com.apple.Home: Operation not permitted\n",
      "grep: /Users/gabeiras3j//Library/Containers/com.apple.Safari: Operation not permitted\n",
      "grep: /Users/gabeiras3j//Library/Containers/com.apple.CloudDocs.MobileDocumentsFileProvider: Operation not permitted\n",
      "grep: /Users/gabeiras3j//Library/Containers/com.apple.mail: Operation not permitted\n",
      "grep: /Users/gabeiras3j//Library/Containers/com.apple.Notes: Operation not permitted\n",
      "grep: /Users/gabeiras3j//Library/Containers/com.apple.news: Operation not permitted\n",
      "grep: /Users/gabeiras3j//Library/Containers/com.apple.corerecents.recentsd/Data/Library/Recents: Operation not permitted\n",
      "grep: /Users/gabeiras3j//Library/Containers/com.apple.stocks: Operation not permitted\n",
      "grep: /Users/gabeiras3j//Library/PersonalizationPortrait: Operation not permitted\n",
      "grep: /Users/gabeiras3j//Library/Metadata/CoreSpotlight: Operation not permitted\n",
      "grep: /Users/gabeiras3j//Library/Cookies: Operation not permitted\n",
      "grep: /Users/gabeiras3j//Library/CoreFollowUp: Operation not permitted\n",
      "grep: /Users/gabeiras3j//Library/StatusKit: Operation not permitted\n",
      "grep: /Users/gabeiras3j//Library/Caches/com.apple.HomeKit: Operation not permitted\n",
      "grep: /Users/gabeiras3j//Library/Caches/CloudKit: Operation not permitted\n",
      "grep: /Users/gabeiras3j//Library/Caches/com.apple.Safari: Operation not permitted\n",
      "grep: /Users/gabeiras3j//Library/Caches/com.apple.findmy.imagecache: Operation not permitted\n",
      "grep: /Users/gabeiras3j//Library/Caches/com.apple.findmy.fmfcore: Operation not permitted\n",
      "grep: /Users/gabeiras3j//Library/Caches/FamilyCircle: Operation not permitted\n",
      "grep: /Users/gabeiras3j//Library/Caches/com.apple.homed: Operation not permitted\n",
      "grep: /Users/gabeiras3j//Library/Caches/com.apple.findmy.fmipcore: Operation not permitted\n",
      "grep: /Users/gabeiras3j//Library/Caches/com.apple.ap.adprivacyd: Operation not permitted\n",
      "grep: /Users/gabeiras3j//.Trash: Operation not permitted\n"
     ]
    }
   ],
   "source": [
    "!grep -r 'mermaid' --include=\\*.ipynb ~/\n"
   ]
  },
  {
   "cell_type": "code",
   "execution_count": 1,
   "id": "ce99316c",
   "metadata": {},
   "outputs": [
    {
     "ename": "ModuleNotFoundError",
     "evalue": "No module named 'UrbanSurfAce'",
     "output_type": "error",
     "traceback": [
      "\u001b[0;31m---------------------------------------------------------------------------\u001b[0m",
      "\u001b[0;31mModuleNotFoundError\u001b[0m                       Traceback (most recent call last)",
      "Input \u001b[0;32mIn [1]\u001b[0m, in \u001b[0;36m<cell line: 2>\u001b[0;34m()\u001b[0m\n\u001b[1;32m      1\u001b[0m \u001b[38;5;66;03m# import\u001b[39;00m\n\u001b[0;32m----> 2\u001b[0m \u001b[38;5;28;01mfrom\u001b[39;00m \u001b[38;5;21;01mUrbanSurfAce\u001b[39;00m \u001b[38;5;28;01mimport\u001b[39;00m urban_utils\n",
      "\u001b[0;31mModuleNotFoundError\u001b[0m: No module named 'UrbanSurfAce'"
     ]
    }
   ],
   "source": [
    "# import\n",
    "from UrbanSurfAce import urban_utils"
   ]
  },
  {
   "cell_type": "code",
   "execution_count": 2,
   "id": "1af39d2f",
   "metadata": {},
   "outputs": [
    {
     "data": {
      "application/vnd.jupyter.widget-view+json": {
       "model_id": "291bfe4df82c4f72b67be9555896bc91",
       "version_major": 2,
       "version_minor": 0
      },
      "text/plain": [
       "Map(center=[40.41671327747509, -3.702635610085826], controls=(ZoomControl(options=['position', 'zoom_in_text',…"
      ]
     },
     "metadata": {},
     "output_type": "display_data"
    },
    {
     "name": "stdout",
     "output_type": "stream",
     "text": [
      "Tiles will be stored in OSM_tiles\n",
      "Downloading tiles in area of interest\n"
     ]
    },
    {
     "data": {
      "application/vnd.jupyter.widget-view+json": {
       "model_id": "e928736bb2f0424ab8b616199649a0d1",
       "version_major": 2,
       "version_minor": 0
      },
      "text/plain": [
       "  0%|          | 0/2 [00:00<?, ?it/s]"
      ]
     },
     "metadata": {},
     "output_type": "display_data"
    },
    {
     "data": {
      "application/vnd.jupyter.widget-view+json": {
       "model_id": "",
       "version_major": 2,
       "version_minor": 0
      },
      "text/plain": [
       "  0%|          | 0/2 [00:00<?, ?it/s]"
      ]
     },
     "metadata": {},
     "output_type": "display_data"
    },
    {
     "data": {
      "application/vnd.jupyter.widget-view+json": {
       "model_id": "",
       "version_major": 2,
       "version_minor": 0
      },
      "text/plain": [
       "  0%|          | 0/2 [00:00<?, ?it/s]"
      ]
     },
     "metadata": {},
     "output_type": "display_data"
    },
    {
     "name": "stdout",
     "output_type": "stream",
     "text": [
      "Merging files and croping for area of interest\n"
     ]
    },
    {
     "data": {
      "application/vnd.jupyter.widget-view+json": {
       "model_id": "c927884302b447c4ba11d1c2bfc618d8",
       "version_major": 2,
       "version_minor": 0
      },
      "text/plain": [
       "  0%|          | 0/4 [00:00<?, ?it/s]"
      ]
     },
     "metadata": {},
     "output_type": "display_data"
    },
    {
     "name": "stdout",
     "output_type": "stream",
     "text": [
      "Merged file saved as: buildings_merged.json\n"
     ]
    }
   ],
   "source": [
    "# create and display interactive map\n",
    "imap = urban_utils.InteractiveMap()\n",
    "imap.display()"
   ]
  },
  {
   "cell_type": "code",
   "execution_count": null,
   "id": "5d3ad942",
   "metadata": {},
   "outputs": [],
   "source": []
  }
 ],
 "metadata": {
  "kernelspec": {
   "display_name": "Python 3 (ipykernel)",
   "language": "python",
   "name": "python3"
  },
  "language_info": {
   "codemirror_mode": {
    "name": "ipython",
    "version": 3
   },
   "file_extension": ".py",
   "mimetype": "text/x-python",
   "name": "python",
   "nbconvert_exporter": "python",
   "pygments_lexer": "ipython3",
   "version": "3.9.19"
  }
 },
 "nbformat": 4,
 "nbformat_minor": 5
}
